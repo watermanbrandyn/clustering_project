{
 "cells": [
  {
   "cell_type": "code",
   "execution_count": 1,
   "id": "988ae79b",
   "metadata": {},
   "outputs": [],
   "source": [
    "import pandas as pd\n",
    "import numpy as np\n",
    "import matplotlib.pyplot as plt\n",
    "import seaborn as sns\n",
    "\n",
    "import warnings\n",
    "warnings.filterwarnings('ignore')\n",
    "\n",
    "from sklearn.model_selection import train_test_split\n",
    "from sklearn.preprocessing import MinMaxScaler\n",
    "\n",
    "pd.options.display.max_rows = 100"
   ]
  },
  {
   "cell_type": "code",
   "execution_count": 2,
   "id": "5e00f910",
   "metadata": {},
   "outputs": [],
   "source": [
    "import wrangle_zillow as w"
   ]
  },
  {
   "cell_type": "markdown",
   "id": "47f6fef5",
   "metadata": {},
   "source": [
    "## Acquire:"
   ]
  },
  {
   "cell_type": "code",
   "execution_count": 3,
   "id": "0bc0561e",
   "metadata": {},
   "outputs": [
    {
     "name": "stdout",
     "output_type": "stream",
     "text": [
      "Using cached csv\n"
     ]
    }
   ],
   "source": [
    "df = w.acquire_zillow()"
   ]
  },
  {
   "cell_type": "code",
   "execution_count": 4,
   "id": "286ebd7a",
   "metadata": {},
   "outputs": [
    {
     "data": {
      "text/html": [
       "<div>\n",
       "<style scoped>\n",
       "    .dataframe tbody tr th:only-of-type {\n",
       "        vertical-align: middle;\n",
       "    }\n",
       "\n",
       "    .dataframe tbody tr th {\n",
       "        vertical-align: top;\n",
       "    }\n",
       "\n",
       "    .dataframe thead th {\n",
       "        text-align: right;\n",
       "    }\n",
       "</style>\n",
       "<table border=\"1\" class=\"dataframe\">\n",
       "  <thead>\n",
       "    <tr style=\"text-align: right;\">\n",
       "      <th></th>\n",
       "      <th>id</th>\n",
       "      <th>parcelid</th>\n",
       "      <th>airconditioningtypeid</th>\n",
       "      <th>architecturalstyletypeid</th>\n",
       "      <th>basementsqft</th>\n",
       "      <th>bathroomcnt</th>\n",
       "      <th>bedroomcnt</th>\n",
       "      <th>buildingclasstypeid</th>\n",
       "      <th>buildingqualitytypeid</th>\n",
       "      <th>calculatedbathnbr</th>\n",
       "      <th>...</th>\n",
       "      <th>censustractandblock</th>\n",
       "      <th>logerror</th>\n",
       "      <th>transactiondate</th>\n",
       "      <th>airconditioningdesc</th>\n",
       "      <th>architecturalstyledesc</th>\n",
       "      <th>buildingclassdesc</th>\n",
       "      <th>heatingorsystemdesc</th>\n",
       "      <th>propertylandusedesc</th>\n",
       "      <th>storydesc</th>\n",
       "      <th>typeconstructiondesc</th>\n",
       "    </tr>\n",
       "  </thead>\n",
       "  <tbody>\n",
       "    <tr>\n",
       "      <th>0</th>\n",
       "      <td>1727539</td>\n",
       "      <td>14297519</td>\n",
       "      <td>NaN</td>\n",
       "      <td>NaN</td>\n",
       "      <td>NaN</td>\n",
       "      <td>3.5</td>\n",
       "      <td>4.0</td>\n",
       "      <td>NaN</td>\n",
       "      <td>NaN</td>\n",
       "      <td>3.5</td>\n",
       "      <td>...</td>\n",
       "      <td>6.059063e+13</td>\n",
       "      <td>0.025595</td>\n",
       "      <td>2017-01-01</td>\n",
       "      <td>NaN</td>\n",
       "      <td>NaN</td>\n",
       "      <td>NaN</td>\n",
       "      <td>NaN</td>\n",
       "      <td>Single Family Residential</td>\n",
       "      <td>NaN</td>\n",
       "      <td>NaN</td>\n",
       "    </tr>\n",
       "    <tr>\n",
       "      <th>1</th>\n",
       "      <td>1387261</td>\n",
       "      <td>17052889</td>\n",
       "      <td>NaN</td>\n",
       "      <td>NaN</td>\n",
       "      <td>NaN</td>\n",
       "      <td>1.0</td>\n",
       "      <td>2.0</td>\n",
       "      <td>NaN</td>\n",
       "      <td>NaN</td>\n",
       "      <td>1.0</td>\n",
       "      <td>...</td>\n",
       "      <td>6.111001e+13</td>\n",
       "      <td>0.055619</td>\n",
       "      <td>2017-01-01</td>\n",
       "      <td>NaN</td>\n",
       "      <td>NaN</td>\n",
       "      <td>NaN</td>\n",
       "      <td>NaN</td>\n",
       "      <td>Single Family Residential</td>\n",
       "      <td>NaN</td>\n",
       "      <td>NaN</td>\n",
       "    </tr>\n",
       "    <tr>\n",
       "      <th>2</th>\n",
       "      <td>11677</td>\n",
       "      <td>14186244</td>\n",
       "      <td>NaN</td>\n",
       "      <td>NaN</td>\n",
       "      <td>NaN</td>\n",
       "      <td>2.0</td>\n",
       "      <td>3.0</td>\n",
       "      <td>NaN</td>\n",
       "      <td>NaN</td>\n",
       "      <td>2.0</td>\n",
       "      <td>...</td>\n",
       "      <td>6.059022e+13</td>\n",
       "      <td>0.005383</td>\n",
       "      <td>2017-01-01</td>\n",
       "      <td>NaN</td>\n",
       "      <td>NaN</td>\n",
       "      <td>NaN</td>\n",
       "      <td>NaN</td>\n",
       "      <td>Single Family Residential</td>\n",
       "      <td>NaN</td>\n",
       "      <td>NaN</td>\n",
       "    </tr>\n",
       "    <tr>\n",
       "      <th>3</th>\n",
       "      <td>2288172</td>\n",
       "      <td>12177905</td>\n",
       "      <td>NaN</td>\n",
       "      <td>NaN</td>\n",
       "      <td>NaN</td>\n",
       "      <td>3.0</td>\n",
       "      <td>4.0</td>\n",
       "      <td>NaN</td>\n",
       "      <td>8.0</td>\n",
       "      <td>3.0</td>\n",
       "      <td>...</td>\n",
       "      <td>6.037300e+13</td>\n",
       "      <td>-0.103410</td>\n",
       "      <td>2017-01-01</td>\n",
       "      <td>NaN</td>\n",
       "      <td>NaN</td>\n",
       "      <td>NaN</td>\n",
       "      <td>Central</td>\n",
       "      <td>Single Family Residential</td>\n",
       "      <td>NaN</td>\n",
       "      <td>NaN</td>\n",
       "    </tr>\n",
       "    <tr>\n",
       "      <th>4</th>\n",
       "      <td>1970746</td>\n",
       "      <td>10887214</td>\n",
       "      <td>1.0</td>\n",
       "      <td>NaN</td>\n",
       "      <td>NaN</td>\n",
       "      <td>3.0</td>\n",
       "      <td>3.0</td>\n",
       "      <td>NaN</td>\n",
       "      <td>8.0</td>\n",
       "      <td>3.0</td>\n",
       "      <td>...</td>\n",
       "      <td>6.037124e+13</td>\n",
       "      <td>0.006940</td>\n",
       "      <td>2017-01-01</td>\n",
       "      <td>Central</td>\n",
       "      <td>NaN</td>\n",
       "      <td>NaN</td>\n",
       "      <td>Central</td>\n",
       "      <td>Condominium</td>\n",
       "      <td>NaN</td>\n",
       "      <td>NaN</td>\n",
       "    </tr>\n",
       "  </tbody>\n",
       "</table>\n",
       "<p>5 rows × 68 columns</p>\n",
       "</div>"
      ],
      "text/plain": [
       "        id  parcelid  airconditioningtypeid  architecturalstyletypeid  \\\n",
       "0  1727539  14297519                    NaN                       NaN   \n",
       "1  1387261  17052889                    NaN                       NaN   \n",
       "2    11677  14186244                    NaN                       NaN   \n",
       "3  2288172  12177905                    NaN                       NaN   \n",
       "4  1970746  10887214                    1.0                       NaN   \n",
       "\n",
       "   basementsqft  bathroomcnt  bedroomcnt  buildingclasstypeid  \\\n",
       "0           NaN          3.5         4.0                  NaN   \n",
       "1           NaN          1.0         2.0                  NaN   \n",
       "2           NaN          2.0         3.0                  NaN   \n",
       "3           NaN          3.0         4.0                  NaN   \n",
       "4           NaN          3.0         3.0                  NaN   \n",
       "\n",
       "   buildingqualitytypeid  calculatedbathnbr  ...  censustractandblock  \\\n",
       "0                    NaN                3.5  ...         6.059063e+13   \n",
       "1                    NaN                1.0  ...         6.111001e+13   \n",
       "2                    NaN                2.0  ...         6.059022e+13   \n",
       "3                    8.0                3.0  ...         6.037300e+13   \n",
       "4                    8.0                3.0  ...         6.037124e+13   \n",
       "\n",
       "   logerror  transactiondate  airconditioningdesc  architecturalstyledesc  \\\n",
       "0  0.025595       2017-01-01                  NaN                     NaN   \n",
       "1  0.055619       2017-01-01                  NaN                     NaN   \n",
       "2  0.005383       2017-01-01                  NaN                     NaN   \n",
       "3 -0.103410       2017-01-01                  NaN                     NaN   \n",
       "4  0.006940       2017-01-01              Central                     NaN   \n",
       "\n",
       "   buildingclassdesc  heatingorsystemdesc        propertylandusedesc  \\\n",
       "0                NaN                  NaN  Single Family Residential   \n",
       "1                NaN                  NaN  Single Family Residential   \n",
       "2                NaN                  NaN  Single Family Residential   \n",
       "3                NaN              Central  Single Family Residential   \n",
       "4                NaN              Central                Condominium   \n",
       "\n",
       "   storydesc  typeconstructiondesc  \n",
       "0        NaN                   NaN  \n",
       "1        NaN                   NaN  \n",
       "2        NaN                   NaN  \n",
       "3        NaN                   NaN  \n",
       "4        NaN                   NaN  \n",
       "\n",
       "[5 rows x 68 columns]"
      ]
     },
     "execution_count": 4,
     "metadata": {},
     "output_type": "execute_result"
    }
   ],
   "source": [
    "df.head()"
   ]
  },
  {
   "cell_type": "code",
   "execution_count": 5,
   "id": "bf0ad91b",
   "metadata": {},
   "outputs": [
    {
     "data": {
      "text/plain": [
       "(77380, 68)"
      ]
     },
     "execution_count": 5,
     "metadata": {},
     "output_type": "execute_result"
    }
   ],
   "source": [
    "df.shape"
   ]
  },
  {
   "cell_type": "markdown",
   "id": "ddf0cd98",
   "metadata": {},
   "source": [
    "## Prepare:"
   ]
  },
  {
   "cell_type": "code",
   "execution_count": 6,
   "id": "032c9625",
   "metadata": {},
   "outputs": [],
   "source": [
    "# Identify and remove the non-single units\n",
    "not_single = [246, 248, 247, 267, 31]\n",
    "df = df[~df.propertylandusetypeid.isin(not_single)]"
   ]
  },
  {
   "cell_type": "code",
   "execution_count": 7,
   "id": "4c2725fe",
   "metadata": {},
   "outputs": [
    {
     "data": {
      "text/plain": [
       "(74065, 68)"
      ]
     },
     "execution_count": 7,
     "metadata": {},
     "output_type": "execute_result"
    }
   ],
   "source": [
    "df.shape"
   ]
  },
  {
   "cell_type": "code",
   "execution_count": 8,
   "id": "3ef37445",
   "metadata": {},
   "outputs": [],
   "source": [
    "# Take a look at what our nulls look like\n",
    "col_nulls = w.nulls_by_col(df)"
   ]
  },
  {
   "cell_type": "code",
   "execution_count": 9,
   "id": "6b744a5b",
   "metadata": {},
   "outputs": [
    {
     "data": {
      "text/html": [
       "<div>\n",
       "<style scoped>\n",
       "    .dataframe tbody tr th:only-of-type {\n",
       "        vertical-align: middle;\n",
       "    }\n",
       "\n",
       "    .dataframe tbody tr th {\n",
       "        vertical-align: top;\n",
       "    }\n",
       "\n",
       "    .dataframe thead th {\n",
       "        text-align: right;\n",
       "    }\n",
       "</style>\n",
       "<table border=\"1\" class=\"dataframe\">\n",
       "  <thead>\n",
       "    <tr style=\"text-align: right;\">\n",
       "      <th></th>\n",
       "      <th>num_cols_missing</th>\n",
       "      <th>num_rows</th>\n",
       "      <th>pct_cols_missing</th>\n",
       "    </tr>\n",
       "  </thead>\n",
       "  <tbody>\n",
       "    <tr>\n",
       "      <th>0</th>\n",
       "      <td>23</td>\n",
       "      <td>2</td>\n",
       "      <td>0.338235</td>\n",
       "    </tr>\n",
       "    <tr>\n",
       "      <th>1</th>\n",
       "      <td>24</td>\n",
       "      <td>13</td>\n",
       "      <td>0.352941</td>\n",
       "    </tr>\n",
       "    <tr>\n",
       "      <th>2</th>\n",
       "      <td>25</td>\n",
       "      <td>24</td>\n",
       "      <td>0.367647</td>\n",
       "    </tr>\n",
       "    <tr>\n",
       "      <th>3</th>\n",
       "      <td>26</td>\n",
       "      <td>65</td>\n",
       "      <td>0.382353</td>\n",
       "    </tr>\n",
       "    <tr>\n",
       "      <th>4</th>\n",
       "      <td>27</td>\n",
       "      <td>316</td>\n",
       "      <td>0.397059</td>\n",
       "    </tr>\n",
       "    <tr>\n",
       "      <th>5</th>\n",
       "      <td>28</td>\n",
       "      <td>454</td>\n",
       "      <td>0.411765</td>\n",
       "    </tr>\n",
       "    <tr>\n",
       "      <th>6</th>\n",
       "      <td>29</td>\n",
       "      <td>5263</td>\n",
       "      <td>0.426471</td>\n",
       "    </tr>\n",
       "    <tr>\n",
       "      <th>7</th>\n",
       "      <td>30</td>\n",
       "      <td>3443</td>\n",
       "      <td>0.441176</td>\n",
       "    </tr>\n",
       "    <tr>\n",
       "      <th>8</th>\n",
       "      <td>31</td>\n",
       "      <td>9789</td>\n",
       "      <td>0.455882</td>\n",
       "    </tr>\n",
       "    <tr>\n",
       "      <th>9</th>\n",
       "      <td>32</td>\n",
       "      <td>12479</td>\n",
       "      <td>0.470588</td>\n",
       "    </tr>\n",
       "    <tr>\n",
       "      <th>10</th>\n",
       "      <td>33</td>\n",
       "      <td>14318</td>\n",
       "      <td>0.485294</td>\n",
       "    </tr>\n",
       "    <tr>\n",
       "      <th>11</th>\n",
       "      <td>34</td>\n",
       "      <td>12854</td>\n",
       "      <td>0.500000</td>\n",
       "    </tr>\n",
       "    <tr>\n",
       "      <th>12</th>\n",
       "      <td>35</td>\n",
       "      <td>4024</td>\n",
       "      <td>0.514706</td>\n",
       "    </tr>\n",
       "    <tr>\n",
       "      <th>13</th>\n",
       "      <td>36</td>\n",
       "      <td>5115</td>\n",
       "      <td>0.529412</td>\n",
       "    </tr>\n",
       "    <tr>\n",
       "      <th>14</th>\n",
       "      <td>37</td>\n",
       "      <td>3395</td>\n",
       "      <td>0.544118</td>\n",
       "    </tr>\n",
       "    <tr>\n",
       "      <th>15</th>\n",
       "      <td>38</td>\n",
       "      <td>1890</td>\n",
       "      <td>0.558824</td>\n",
       "    </tr>\n",
       "    <tr>\n",
       "      <th>16</th>\n",
       "      <td>39</td>\n",
       "      <td>241</td>\n",
       "      <td>0.573529</td>\n",
       "    </tr>\n",
       "    <tr>\n",
       "      <th>17</th>\n",
       "      <td>40</td>\n",
       "      <td>173</td>\n",
       "      <td>0.588235</td>\n",
       "    </tr>\n",
       "    <tr>\n",
       "      <th>18</th>\n",
       "      <td>41</td>\n",
       "      <td>21</td>\n",
       "      <td>0.602941</td>\n",
       "    </tr>\n",
       "    <tr>\n",
       "      <th>19</th>\n",
       "      <td>42</td>\n",
       "      <td>23</td>\n",
       "      <td>0.617647</td>\n",
       "    </tr>\n",
       "    <tr>\n",
       "      <th>20</th>\n",
       "      <td>43</td>\n",
       "      <td>25</td>\n",
       "      <td>0.632353</td>\n",
       "    </tr>\n",
       "    <tr>\n",
       "      <th>21</th>\n",
       "      <td>44</td>\n",
       "      <td>78</td>\n",
       "      <td>0.647059</td>\n",
       "    </tr>\n",
       "    <tr>\n",
       "      <th>22</th>\n",
       "      <td>45</td>\n",
       "      <td>50</td>\n",
       "      <td>0.661765</td>\n",
       "    </tr>\n",
       "    <tr>\n",
       "      <th>23</th>\n",
       "      <td>46</td>\n",
       "      <td>4</td>\n",
       "      <td>0.676471</td>\n",
       "    </tr>\n",
       "    <tr>\n",
       "      <th>24</th>\n",
       "      <td>47</td>\n",
       "      <td>3</td>\n",
       "      <td>0.691176</td>\n",
       "    </tr>\n",
       "    <tr>\n",
       "      <th>25</th>\n",
       "      <td>48</td>\n",
       "      <td>3</td>\n",
       "      <td>0.705882</td>\n",
       "    </tr>\n",
       "  </tbody>\n",
       "</table>\n",
       "</div>"
      ],
      "text/plain": [
       "    num_cols_missing  num_rows  pct_cols_missing\n",
       "0                 23         2          0.338235\n",
       "1                 24        13          0.352941\n",
       "2                 25        24          0.367647\n",
       "3                 26        65          0.382353\n",
       "4                 27       316          0.397059\n",
       "5                 28       454          0.411765\n",
       "6                 29      5263          0.426471\n",
       "7                 30      3443          0.441176\n",
       "8                 31      9789          0.455882\n",
       "9                 32     12479          0.470588\n",
       "10                33     14318          0.485294\n",
       "11                34     12854          0.500000\n",
       "12                35      4024          0.514706\n",
       "13                36      5115          0.529412\n",
       "14                37      3395          0.544118\n",
       "15                38      1890          0.558824\n",
       "16                39       241          0.573529\n",
       "17                40       173          0.588235\n",
       "18                41        21          0.602941\n",
       "19                42        23          0.617647\n",
       "20                43        25          0.632353\n",
       "21                44        78          0.647059\n",
       "22                45        50          0.661765\n",
       "23                46         4          0.676471\n",
       "24                47         3          0.691176\n",
       "25                48         3          0.705882"
      ]
     },
     "execution_count": 9,
     "metadata": {},
     "output_type": "execute_result"
    }
   ],
   "source": [
    "w.nulls_by_rows(df)"
   ]
  },
  {
   "cell_type": "code",
   "execution_count": 10,
   "id": "c050b81b",
   "metadata": {},
   "outputs": [
    {
     "name": "stdout",
     "output_type": "stream",
     "text": [
      "airconditioningtypeid\n",
      "NaN     49335\n",
      "1.0     22943\n",
      "13.0     1567\n",
      "5.0       167\n",
      "11.0       53\n",
      "Name: airconditioningtypeid, dtype: int64\n",
      "----------\n",
      "architecturalstyletypeid\n",
      "NaN     73859\n",
      "7.0       172\n",
      "8.0        19\n",
      "21.0        7\n",
      "2.0         5\n",
      "3.0         3\n",
      "Name: architecturalstyletypeid, dtype: int64\n",
      "----------\n",
      "basementsqft\n",
      "NaN       74015\n",
      "900.0         2\n",
      "700.0         2\n",
      "100.0         2\n",
      "640.0         2\n",
      "515.0         2\n",
      "273.0         2\n",
      "912.0         2\n",
      "588.0         1\n",
      "819.0         1\n",
      "1809.0        1\n",
      "604.0         1\n",
      "126.0         1\n",
      "669.0         1\n",
      "314.0         1\n",
      "800.0         1\n",
      "786.0         1\n",
      "396.0         1\n",
      "112.0         1\n",
      "645.0         1\n",
      "384.0         1\n",
      "1969.0        1\n",
      "252.0         1\n",
      "600.0         1\n",
      "1218.0        1\n",
      "280.0         1\n",
      "3112.0        1\n",
      "1416.0        1\n",
      "224.0         1\n",
      "512.0         1\n",
      "380.0         1\n",
      "204.0         1\n",
      "200.0         1\n",
      "90.0          1\n",
      "405.0         1\n",
      "300.0         1\n",
      "674.0         1\n",
      "1252.0        1\n",
      "254.0         1\n",
      "3560.0        1\n",
      "352.0         1\n",
      "168.0         1\n",
      "394.0         1\n",
      "38.0          1\n",
      "Name: basementsqft, dtype: int64\n",
      "----------\n",
      "buildingclasstypeid\n",
      "NaN    74065\n",
      "Name: buildingclasstypeid, dtype: int64\n",
      "----------\n",
      "decktypeid\n",
      "NaN     73451\n",
      "66.0      614\n",
      "Name: decktypeid, dtype: int64\n",
      "----------\n",
      "finishedfloor1squarefeet\n",
      "NaN       68044\n",
      "1252.0       22\n",
      "1441.0       21\n",
      "1462.0       21\n",
      "780.0        21\n",
      "          ...  \n",
      "1988.0        1\n",
      "666.0         1\n",
      "1437.0        1\n",
      "1307.0        1\n",
      "2652.0        1\n",
      "Name: finishedfloor1squarefeet, Length: 1788, dtype: int64\n",
      "----------\n",
      "finishedsquarefeet13\n",
      "NaN       74024\n",
      "1440.0       18\n",
      "1344.0        5\n",
      "1536.0        3\n",
      "1488.0        3\n",
      "1152.0        2\n",
      "1392.0        2\n",
      "1248.0        2\n",
      "1056.0        1\n",
      "1300.0        1\n",
      "1560.0        1\n",
      "1512.0        1\n",
      "1060.0        1\n",
      "1200.0        1\n",
      "Name: finishedsquarefeet13, dtype: int64\n",
      "----------\n",
      "finishedsquarefeet15\n",
      "NaN       74054\n",
      "744.0         2\n",
      "608.0         2\n",
      "654.0         1\n",
      "646.0         1\n",
      "1042.0        1\n",
      "893.0         1\n",
      "600.0         1\n",
      "1182.0        1\n",
      "598.0         1\n",
      "Name: finishedsquarefeet15, dtype: int64\n",
      "----------\n",
      "finishedsquarefeet50\n",
      "NaN       68044\n",
      "1252.0       22\n",
      "1205.0       21\n",
      "1498.0       21\n",
      "1441.0       21\n",
      "          ...  \n",
      "2274.0        1\n",
      "2738.0        1\n",
      "3601.0        1\n",
      "5168.0        1\n",
      "2652.0        1\n",
      "Name: finishedsquarefeet50, Length: 1808, dtype: int64\n",
      "----------\n",
      "finishedsquarefeet6\n",
      "NaN       73898\n",
      "952.0         4\n",
      "520.0         3\n",
      "765.0         2\n",
      "750.0         2\n",
      "          ...  \n",
      "1178.0        1\n",
      "670.0         1\n",
      "748.0         1\n",
      "1200.0        1\n",
      "905.0         1\n",
      "Name: finishedsquarefeet6, Length: 158, dtype: int64\n",
      "----------\n",
      "fireplacecnt\n",
      "NaN    65804\n",
      "1.0     6996\n",
      "2.0      994\n",
      "3.0      233\n",
      "4.0       35\n",
      "5.0        3\n",
      "Name: fireplacecnt, dtype: int64\n",
      "----------\n",
      "garagecarcnt\n",
      "NaN     48769\n",
      "2.0     18601\n",
      "1.0      5660\n",
      "3.0       632\n",
      "4.0       255\n",
      "0.0        75\n",
      "5.0        45\n",
      "6.0        14\n",
      "7.0         4\n",
      "10.0        3\n",
      "8.0         2\n",
      "9.0         2\n",
      "11.0        1\n",
      "13.0        1\n",
      "14.0        1\n",
      "Name: garagecarcnt, dtype: int64\n",
      "----------\n",
      "garagetotalsqft\n",
      "NaN       48769\n",
      "0.0        7507\n",
      "400.0       786\n",
      "441.0       678\n",
      "462.0       658\n",
      "          ...  \n",
      "1006.0        1\n",
      "275.0         1\n",
      "1056.0        1\n",
      "261.0         1\n",
      "957.0         1\n",
      "Name: garagetotalsqft, Length: 840, dtype: int64\n",
      "----------\n",
      "hashottuborspa\n",
      "NaN    72528\n",
      "1.0     1537\n",
      "Name: hashottuborspa, dtype: int64\n",
      "----------\n",
      "poolcnt\n",
      "NaN    57973\n",
      "1.0    16092\n",
      "Name: poolcnt, dtype: int64\n",
      "----------\n",
      "poolsizesum\n",
      "NaN       73198\n",
      "450.0        90\n",
      "400.0        38\n",
      "500.0        30\n",
      "600.0        27\n",
      "          ...  \n",
      "275.0         1\n",
      "434.0         1\n",
      "1070.0        1\n",
      "368.0         1\n",
      "780.0         1\n",
      "Name: poolsizesum, Length: 263, dtype: int64\n",
      "----------\n",
      "pooltypeid10\n",
      "NaN    73602\n",
      "1.0      463\n",
      "Name: pooltypeid10, dtype: int64\n",
      "----------\n",
      "pooltypeid2\n",
      "NaN    72991\n",
      "1.0     1074\n",
      "Name: pooltypeid2, dtype: int64\n",
      "----------\n",
      "pooltypeid7\n",
      "NaN    59068\n",
      "1.0    14997\n",
      "Name: pooltypeid7, dtype: int64\n",
      "----------\n",
      "regionidneighborhood\n",
      "NaN         45092\n",
      "27080.0       710\n",
      "48570.0       702\n",
      "37739.0       684\n",
      "51906.0       548\n",
      "            ...  \n",
      "275778.0        1\n",
      "268050.0        1\n",
      "764138.0        1\n",
      "762890.0        1\n",
      "762940.0        1\n",
      "Name: regionidneighborhood, Length: 478, dtype: int64\n",
      "----------\n",
      "storytypeid\n",
      "NaN    74015\n",
      "7.0       50\n",
      "Name: storytypeid, dtype: int64\n",
      "----------\n",
      "threequarterbathnbr\n",
      "NaN    63972\n",
      "1.0    10009\n",
      "2.0       75\n",
      "3.0        8\n",
      "7.0        1\n",
      "Name: threequarterbathnbr, dtype: int64\n",
      "----------\n",
      "typeconstructiontypeid\n",
      "NaN     73843\n",
      "6.0       219\n",
      "13.0        1\n",
      "10.0        1\n",
      "4.0         1\n",
      "Name: typeconstructiontypeid, dtype: int64\n",
      "----------\n",
      "yardbuildingsqft17\n",
      "NaN      71678\n",
      "200.0      103\n",
      "240.0       76\n",
      "300.0       50\n",
      "180.0       42\n",
      "         ...  \n",
      "786.0        1\n",
      "82.0         1\n",
      "710.0        1\n",
      "281.0        1\n",
      "409.0        1\n",
      "Name: yardbuildingsqft17, Length: 541, dtype: int64\n",
      "----------\n",
      "yardbuildingsqft26\n",
      "NaN      73995\n",
      "120.0        3\n",
      "30.0         3\n",
      "56.0         2\n",
      "300.0        2\n",
      "88.0         2\n",
      "240.0        2\n",
      "448.0        2\n",
      "144.0        2\n",
      "33.0         2\n",
      "486.0        1\n",
      "491.0        1\n",
      "91.0         1\n",
      "250.0        1\n",
      "133.0        1\n",
      "16.0         1\n",
      "39.0         1\n",
      "284.0        1\n",
      "48.0         1\n",
      "575.0        1\n",
      "204.0        1\n",
      "140.0        1\n",
      "71.0         1\n",
      "28.0         1\n",
      "195.0        1\n",
      "292.0        1\n",
      "231.0        1\n",
      "320.0        1\n",
      "384.0        1\n",
      "180.0        1\n",
      "49.0         1\n",
      "868.0        1\n",
      "462.0        1\n",
      "461.0        1\n",
      "72.0         1\n",
      "105.0        1\n",
      "414.0        1\n",
      "160.0        1\n",
      "45.0         1\n",
      "752.0        1\n",
      "169.0        1\n",
      "21.0         1\n",
      "200.0        1\n",
      "113.0        1\n",
      "41.0         1\n",
      "314.0        1\n",
      "12.0         1\n",
      "66.0         1\n",
      "37.0         1\n",
      "648.0        1\n",
      "174.0        1\n",
      "218.0        1\n",
      "60.0         1\n",
      "336.0        1\n",
      "108.0        1\n",
      "216.0        1\n",
      "360.0        1\n",
      "196.0        1\n",
      "368.0        1\n",
      "576.0        1\n",
      "Name: yardbuildingsqft26, dtype: int64\n",
      "----------\n",
      "numberofstories\n",
      "NaN    56719\n",
      "1.0    10337\n",
      "2.0     6573\n",
      "3.0      435\n",
      "6.0        1\n",
      "Name: numberofstories, dtype: int64\n",
      "----------\n",
      "fireplaceflag\n",
      "NaN    73893\n",
      "1.0      172\n",
      "Name: fireplaceflag, dtype: int64\n",
      "----------\n",
      "taxdelinquencyflag\n",
      "NaN    71417\n",
      "Y       2648\n",
      "Name: taxdelinquencyflag, dtype: int64\n",
      "----------\n",
      "taxdelinquencyyear\n",
      "NaN     71417\n",
      "15.0     1436\n",
      "14.0      726\n",
      "13.0      165\n",
      "12.0      108\n",
      "11.0       91\n",
      "10.0       59\n",
      "9.0        41\n",
      "8.0        10\n",
      "7.0         9\n",
      "6.0         1\n",
      "99.0        1\n",
      "4.0         1\n",
      "Name: taxdelinquencyyear, dtype: int64\n",
      "----------\n",
      "airconditioningdesc\n",
      "NaN          49335\n",
      "Central      22943\n",
      "Yes           1567\n",
      "None           167\n",
      "Wall Unit       53\n",
      "Name: airconditioningdesc, dtype: int64\n",
      "----------\n",
      "architecturalstyledesc\n",
      "NaN              73859\n",
      "Contemporary       172\n",
      "Conventional        19\n",
      "Ranch/Rambler        7\n",
      "Bungalow             5\n",
      "Cape Cod             3\n",
      "Name: architecturalstyledesc, dtype: int64\n",
      "----------\n",
      "buildingclassdesc\n",
      "NaN    74065\n",
      "Name: buildingclassdesc, dtype: int64\n",
      "----------\n",
      "storydesc\n",
      "NaN         74015\n",
      "Basement       50\n",
      "Name: storydesc, dtype: int64\n",
      "----------\n",
      "typeconstructiondesc\n",
      "NaN         73843\n",
      "Frame         219\n",
      "Masonry         1\n",
      "Metal           1\n",
      "Concrete        1\n",
      "Name: typeconstructiondesc, dtype: int64\n",
      "----------\n"
     ]
    }
   ],
   "source": [
    "# Investigating the columns that would be dropped by a 50% proportion requirement\n",
    "poss_imputes = col_nulls.index[col_nulls.pct_rows_null > .49]\n",
    "for col in poss_imputes:\n",
    "    print(col)\n",
    "    print(df[col].value_counts(dropna=False))\n",
    "    print('----------')"
   ]
  },
  {
   "cell_type": "markdown",
   "id": "679ba31e",
   "metadata": {},
   "source": [
    "1. fireplacecnt - all NaN can be 0, not encoded\n",
    "3. hashottuborspa - all NaN can be 0, encode\n",
    "4. poolcnt - all NaN can be 0, encode\n",
    "5. threequarterbathnbr - NaN can be 0, not encoded\n",
    "6. taxdelinquiencyflag - NaN can be No, can change to 1/0 encoded\n",
    "\n",
    "The other columns are not worth 'saving' due to redundant information, inability/unnecessary to impute, or too many unexplained nulls"
   ]
  },
  {
   "cell_type": "code",
   "execution_count": 11,
   "id": "df0a991a",
   "metadata": {},
   "outputs": [],
   "source": [
    "cols = ['fireplacecnt', 'hashottuborspa', 'poolcnt', 'threequarterbathnbr', 'taxdelinquencyflag']"
   ]
  },
  {
   "cell_type": "code",
   "execution_count": 12,
   "id": "ac6ae698",
   "metadata": {},
   "outputs": [],
   "source": [
    "for col in cols:\n",
    "    df[col] = df[col].fillna(value=0)"
   ]
  },
  {
   "cell_type": "code",
   "execution_count": 13,
   "id": "cf53d501",
   "metadata": {},
   "outputs": [
    {
     "name": "stdout",
     "output_type": "stream",
     "text": [
      "0.0    65804\n",
      "1.0     6996\n",
      "2.0      994\n",
      "3.0      233\n",
      "4.0       35\n",
      "5.0        3\n",
      "Name: fireplacecnt, dtype: int64\n",
      "0.0    72528\n",
      "1.0     1537\n",
      "Name: hashottuborspa, dtype: int64\n",
      "0.0    57973\n",
      "1.0    16092\n",
      "Name: poolcnt, dtype: int64\n",
      "0.0    63972\n",
      "1.0    10009\n",
      "2.0       75\n",
      "3.0        8\n",
      "7.0        1\n",
      "Name: threequarterbathnbr, dtype: int64\n",
      "0    71417\n",
      "Y     2648\n",
      "Name: taxdelinquencyflag, dtype: int64\n"
     ]
    }
   ],
   "source": [
    "for col in cols:\n",
    "    print(df[col].value_counts(dropna=False))"
   ]
  },
  {
   "cell_type": "code",
   "execution_count": 14,
   "id": "1731f585",
   "metadata": {},
   "outputs": [],
   "source": [
    "# Dropping our columns that do not have 50% threshold for column or row of non-nulls\n",
    "df = w.handle_missing_values(df, .5, .5)"
   ]
  },
  {
   "cell_type": "code",
   "execution_count": 15,
   "id": "c811aea6",
   "metadata": {},
   "outputs": [
    {
     "data": {
      "text/plain": [
       "(73668, 39)"
      ]
     },
     "execution_count": 15,
     "metadata": {},
     "output_type": "execute_result"
    }
   ],
   "source": [
    "df.shape"
   ]
  },
  {
   "cell_type": "code",
   "execution_count": 16,
   "id": "09d5346f",
   "metadata": {},
   "outputs": [
    {
     "name": "stdout",
     "output_type": "stream",
     "text": [
      "<class 'pandas.core.frame.DataFrame'>\n",
      "Int64Index: 73668 entries, 0 to 77379\n",
      "Data columns (total 39 columns):\n",
      " #   Column                        Non-Null Count  Dtype  \n",
      "---  ------                        --------------  -----  \n",
      " 0   id                            73668 non-null  int64  \n",
      " 1   parcelid                      73668 non-null  int64  \n",
      " 2   bathroomcnt                   73668 non-null  float64\n",
      " 3   bedroomcnt                    73668 non-null  float64\n",
      " 4   buildingqualitytypeid         46900 non-null  float64\n",
      " 5   calculatedbathnbr             73603 non-null  float64\n",
      " 6   calculatedfinishedsquarefeet  73664 non-null  float64\n",
      " 7   finishedsquarefeet12          73465 non-null  float64\n",
      " 8   fips                          73668 non-null  float64\n",
      " 9   fireplacecnt                  73668 non-null  float64\n",
      " 10  fullbathcnt                   73603 non-null  float64\n",
      " 11  hashottuborspa                73668 non-null  float64\n",
      " 12  heatingorsystemtypeid         48505 non-null  float64\n",
      " 13  latitude                      73668 non-null  float64\n",
      " 14  longitude                     73668 non-null  float64\n",
      " 15  lotsizesquarefeet             65714 non-null  float64\n",
      " 16  poolcnt                       73668 non-null  float64\n",
      " 17  propertycountylandusecode     73668 non-null  object \n",
      " 18  propertylandusetypeid         73668 non-null  float64\n",
      " 19  propertyzoningdesc            47249 non-null  object \n",
      " 20  rawcensustractandblock        73668 non-null  float64\n",
      " 21  regionidcity                  72241 non-null  float64\n",
      " 22  regionidcounty                73668 non-null  float64\n",
      " 23  regionidzip                   73629 non-null  float64\n",
      " 24  roomcnt                       73668 non-null  float64\n",
      " 25  threequarterbathnbr           73668 non-null  float64\n",
      " 26  unitcnt                       47268 non-null  float64\n",
      " 27  yearbuilt                     73629 non-null  float64\n",
      " 28  structuretaxvaluedollarcnt    73592 non-null  float64\n",
      " 29  taxvaluedollarcnt             73667 non-null  float64\n",
      " 30  assessmentyear                73668 non-null  float64\n",
      " 31  landtaxvaluedollarcnt         73667 non-null  float64\n",
      " 32  taxamount                     73663 non-null  float64\n",
      " 33  taxdelinquencyflag            73668 non-null  object \n",
      " 34  censustractandblock           73453 non-null  float64\n",
      " 35  logerror                      73668 non-null  float64\n",
      " 36  transactiondate               73668 non-null  object \n",
      " 37  heatingorsystemdesc           48505 non-null  object \n",
      " 38  propertylandusedesc           73668 non-null  object \n",
      "dtypes: float64(31), int64(2), object(6)\n",
      "memory usage: 22.5+ MB\n"
     ]
    }
   ],
   "source": [
    "df.info()"
   ]
  },
  {
   "cell_type": "code",
   "execution_count": 17,
   "id": "16a59a4e",
   "metadata": {},
   "outputs": [],
   "source": [
    "# Rows to drop bc they are not useful, redundant, or cause leakage\n",
    "to_drop = ['id', 'parcelid', 'calculatedbathnbr', 'finishedsquarefeet12', 'lotsizesquarefeet', 'propertycountylandusecode',\n",
    "          'propertylandusetypeid', 'propertyzoningdesc', 'rawcensustractandblock', 'structuretaxvaluedollarcnt', 'taxvaluedollarcnt',\n",
    "          'assessmentyear', 'landtaxvaluedollarcnt', 'taxamount', 'censustractandblock', 'transactiondate', 'heatingorsystemdesc', \n",
    "          'propertylandusedesc', 'buildingqualitytypeid', 'heatingorsystemtypeid', 'regionidcity', 'roomcnt', 'fullbathcnt',\n",
    "          'regionidcounty']"
   ]
  },
  {
   "cell_type": "code",
   "execution_count": 18,
   "id": "4e6d1966",
   "metadata": {},
   "outputs": [],
   "source": [
    "df = df.drop(columns=to_drop)"
   ]
  },
  {
   "cell_type": "code",
   "execution_count": 19,
   "id": "790701c2",
   "metadata": {},
   "outputs": [
    {
     "data": {
      "text/plain": [
       "(73668, 15)"
      ]
     },
     "execution_count": 19,
     "metadata": {},
     "output_type": "execute_result"
    }
   ],
   "source": [
    "df.shape"
   ]
  },
  {
   "cell_type": "code",
   "execution_count": 20,
   "id": "1ca0f363",
   "metadata": {},
   "outputs": [
    {
     "name": "stdout",
     "output_type": "stream",
     "text": [
      "<class 'pandas.core.frame.DataFrame'>\n",
      "Int64Index: 73668 entries, 0 to 77379\n",
      "Data columns (total 15 columns):\n",
      " #   Column                        Non-Null Count  Dtype  \n",
      "---  ------                        --------------  -----  \n",
      " 0   bathroomcnt                   73668 non-null  float64\n",
      " 1   bedroomcnt                    73668 non-null  float64\n",
      " 2   calculatedfinishedsquarefeet  73664 non-null  float64\n",
      " 3   fips                          73668 non-null  float64\n",
      " 4   fireplacecnt                  73668 non-null  float64\n",
      " 5   hashottuborspa                73668 non-null  float64\n",
      " 6   latitude                      73668 non-null  float64\n",
      " 7   longitude                     73668 non-null  float64\n",
      " 8   poolcnt                       73668 non-null  float64\n",
      " 9   regionidzip                   73629 non-null  float64\n",
      " 10  threequarterbathnbr           73668 non-null  float64\n",
      " 11  unitcnt                       47268 non-null  float64\n",
      " 12  yearbuilt                     73629 non-null  float64\n",
      " 13  taxdelinquencyflag            73668 non-null  object \n",
      " 14  logerror                      73668 non-null  float64\n",
      "dtypes: float64(14), object(1)\n",
      "memory usage: 9.0+ MB\n"
     ]
    }
   ],
   "source": [
    "df.info()"
   ]
  },
  {
   "cell_type": "code",
   "execution_count": 21,
   "id": "0629d97c",
   "metadata": {},
   "outputs": [
    {
     "data": {
      "text/plain": [
       "1.0    47229\n",
       "NaN    26400\n",
       "2.0       33\n",
       "3.0        3\n",
       "4.0        2\n",
       "6.0        1\n",
       "Name: unitcnt, dtype: int64"
      ]
     },
     "execution_count": 21,
     "metadata": {},
     "output_type": "execute_result"
    }
   ],
   "source": [
    "df.unitcnt.value_counts(dropna=False)"
   ]
  },
  {
   "cell_type": "code",
   "execution_count": 22,
   "id": "a2728347",
   "metadata": {},
   "outputs": [],
   "source": [
    "df.unitcnt = df.unitcnt.fillna(value=1)"
   ]
  },
  {
   "cell_type": "code",
   "execution_count": 23,
   "id": "7f95fa84",
   "metadata": {},
   "outputs": [
    {
     "data": {
      "text/plain": [
       "(73668, 15)"
      ]
     },
     "execution_count": 23,
     "metadata": {},
     "output_type": "execute_result"
    }
   ],
   "source": [
    "df.shape"
   ]
  },
  {
   "cell_type": "code",
   "execution_count": 24,
   "id": "08797ab4",
   "metadata": {},
   "outputs": [
    {
     "data": {
      "text/plain": [
       "1.0    73629\n",
       "2.0       33\n",
       "3.0        3\n",
       "4.0        2\n",
       "6.0        1\n",
       "Name: unitcnt, dtype: int64"
      ]
     },
     "execution_count": 24,
     "metadata": {},
     "output_type": "execute_result"
    }
   ],
   "source": [
    "df.unitcnt.value_counts(dropna=False)"
   ]
  },
  {
   "cell_type": "code",
   "execution_count": 25,
   "id": "c6274046",
   "metadata": {},
   "outputs": [],
   "source": [
    "df = df[df.unitcnt <= 1]"
   ]
  },
  {
   "cell_type": "code",
   "execution_count": 26,
   "id": "f4f802fc",
   "metadata": {},
   "outputs": [
    {
     "data": {
      "text/plain": [
       "(73629, 15)"
      ]
     },
     "execution_count": 26,
     "metadata": {},
     "output_type": "execute_result"
    }
   ],
   "source": [
    "df.shape"
   ]
  },
  {
   "cell_type": "code",
   "execution_count": 27,
   "id": "98f983fc",
   "metadata": {},
   "outputs": [],
   "source": [
    "df = df.drop(columns='unitcnt')"
   ]
  },
  {
   "cell_type": "code",
   "execution_count": 28,
   "id": "9ccd304a",
   "metadata": {},
   "outputs": [
    {
     "data": {
      "text/plain": [
       "(73629, 14)"
      ]
     },
     "execution_count": 28,
     "metadata": {},
     "output_type": "execute_result"
    }
   ],
   "source": [
    "df.shape"
   ]
  },
  {
   "cell_type": "code",
   "execution_count": 29,
   "id": "b03cd338",
   "metadata": {},
   "outputs": [
    {
     "name": "stdout",
     "output_type": "stream",
     "text": [
      "<class 'pandas.core.frame.DataFrame'>\n",
      "Int64Index: 73629 entries, 0 to 77379\n",
      "Data columns (total 14 columns):\n",
      " #   Column                        Non-Null Count  Dtype  \n",
      "---  ------                        --------------  -----  \n",
      " 0   bathroomcnt                   73629 non-null  float64\n",
      " 1   bedroomcnt                    73629 non-null  float64\n",
      " 2   calculatedfinishedsquarefeet  73625 non-null  float64\n",
      " 3   fips                          73629 non-null  float64\n",
      " 4   fireplacecnt                  73629 non-null  float64\n",
      " 5   hashottuborspa                73629 non-null  float64\n",
      " 6   latitude                      73629 non-null  float64\n",
      " 7   longitude                     73629 non-null  float64\n",
      " 8   poolcnt                       73629 non-null  float64\n",
      " 9   regionidzip                   73590 non-null  float64\n",
      " 10  threequarterbathnbr           73629 non-null  float64\n",
      " 11  yearbuilt                     73590 non-null  float64\n",
      " 12  taxdelinquencyflag            73629 non-null  object \n",
      " 13  logerror                      73629 non-null  float64\n",
      "dtypes: float64(13), object(1)\n",
      "memory usage: 8.4+ MB\n"
     ]
    }
   ],
   "source": [
    "df.info()"
   ]
  },
  {
   "cell_type": "code",
   "execution_count": 30,
   "id": "9dbcb72c",
   "metadata": {},
   "outputs": [
    {
     "data": {
      "text/html": [
       "<div>\n",
       "<style scoped>\n",
       "    .dataframe tbody tr th:only-of-type {\n",
       "        vertical-align: middle;\n",
       "    }\n",
       "\n",
       "    .dataframe tbody tr th {\n",
       "        vertical-align: top;\n",
       "    }\n",
       "\n",
       "    .dataframe thead th {\n",
       "        text-align: right;\n",
       "    }\n",
       "</style>\n",
       "<table border=\"1\" class=\"dataframe\">\n",
       "  <thead>\n",
       "    <tr style=\"text-align: right;\">\n",
       "      <th></th>\n",
       "      <th>count_nulls</th>\n",
       "      <th>pct_rows_null</th>\n",
       "    </tr>\n",
       "  </thead>\n",
       "  <tbody>\n",
       "    <tr>\n",
       "      <th>bathroomcnt</th>\n",
       "      <td>0</td>\n",
       "      <td>0.000000</td>\n",
       "    </tr>\n",
       "    <tr>\n",
       "      <th>bedroomcnt</th>\n",
       "      <td>0</td>\n",
       "      <td>0.000000</td>\n",
       "    </tr>\n",
       "    <tr>\n",
       "      <th>calculatedfinishedsquarefeet</th>\n",
       "      <td>4</td>\n",
       "      <td>0.000054</td>\n",
       "    </tr>\n",
       "    <tr>\n",
       "      <th>fips</th>\n",
       "      <td>0</td>\n",
       "      <td>0.000000</td>\n",
       "    </tr>\n",
       "    <tr>\n",
       "      <th>fireplacecnt</th>\n",
       "      <td>0</td>\n",
       "      <td>0.000000</td>\n",
       "    </tr>\n",
       "    <tr>\n",
       "      <th>hashottuborspa</th>\n",
       "      <td>0</td>\n",
       "      <td>0.000000</td>\n",
       "    </tr>\n",
       "    <tr>\n",
       "      <th>latitude</th>\n",
       "      <td>0</td>\n",
       "      <td>0.000000</td>\n",
       "    </tr>\n",
       "    <tr>\n",
       "      <th>longitude</th>\n",
       "      <td>0</td>\n",
       "      <td>0.000000</td>\n",
       "    </tr>\n",
       "    <tr>\n",
       "      <th>poolcnt</th>\n",
       "      <td>0</td>\n",
       "      <td>0.000000</td>\n",
       "    </tr>\n",
       "    <tr>\n",
       "      <th>regionidzip</th>\n",
       "      <td>39</td>\n",
       "      <td>0.000530</td>\n",
       "    </tr>\n",
       "    <tr>\n",
       "      <th>threequarterbathnbr</th>\n",
       "      <td>0</td>\n",
       "      <td>0.000000</td>\n",
       "    </tr>\n",
       "    <tr>\n",
       "      <th>yearbuilt</th>\n",
       "      <td>39</td>\n",
       "      <td>0.000530</td>\n",
       "    </tr>\n",
       "    <tr>\n",
       "      <th>taxdelinquencyflag</th>\n",
       "      <td>0</td>\n",
       "      <td>0.000000</td>\n",
       "    </tr>\n",
       "    <tr>\n",
       "      <th>logerror</th>\n",
       "      <td>0</td>\n",
       "      <td>0.000000</td>\n",
       "    </tr>\n",
       "  </tbody>\n",
       "</table>\n",
       "</div>"
      ],
      "text/plain": [
       "                              count_nulls  pct_rows_null\n",
       "bathroomcnt                             0       0.000000\n",
       "bedroomcnt                              0       0.000000\n",
       "calculatedfinishedsquarefeet            4       0.000054\n",
       "fips                                    0       0.000000\n",
       "fireplacecnt                            0       0.000000\n",
       "hashottuborspa                          0       0.000000\n",
       "latitude                                0       0.000000\n",
       "longitude                               0       0.000000\n",
       "poolcnt                                 0       0.000000\n",
       "regionidzip                            39       0.000530\n",
       "threequarterbathnbr                     0       0.000000\n",
       "yearbuilt                              39       0.000530\n",
       "taxdelinquencyflag                      0       0.000000\n",
       "logerror                                0       0.000000"
      ]
     },
     "execution_count": 30,
     "metadata": {},
     "output_type": "execute_result"
    }
   ],
   "source": [
    "w.nulls_by_col(df)"
   ]
  },
  {
   "cell_type": "code",
   "execution_count": 31,
   "id": "da61083c",
   "metadata": {},
   "outputs": [
    {
     "data": {
      "text/html": [
       "<div>\n",
       "<style scoped>\n",
       "    .dataframe tbody tr th:only-of-type {\n",
       "        vertical-align: middle;\n",
       "    }\n",
       "\n",
       "    .dataframe tbody tr th {\n",
       "        vertical-align: top;\n",
       "    }\n",
       "\n",
       "    .dataframe thead th {\n",
       "        text-align: right;\n",
       "    }\n",
       "</style>\n",
       "<table border=\"1\" class=\"dataframe\">\n",
       "  <thead>\n",
       "    <tr style=\"text-align: right;\">\n",
       "      <th></th>\n",
       "      <th>num_cols_missing</th>\n",
       "      <th>num_rows</th>\n",
       "      <th>pct_cols_missing</th>\n",
       "    </tr>\n",
       "  </thead>\n",
       "  <tbody>\n",
       "    <tr>\n",
       "      <th>0</th>\n",
       "      <td>0</td>\n",
       "      <td>73551</td>\n",
       "      <td>0.000000</td>\n",
       "    </tr>\n",
       "    <tr>\n",
       "      <th>1</th>\n",
       "      <td>1</td>\n",
       "      <td>74</td>\n",
       "      <td>0.071429</td>\n",
       "    </tr>\n",
       "    <tr>\n",
       "      <th>2</th>\n",
       "      <td>2</td>\n",
       "      <td>4</td>\n",
       "      <td>0.142857</td>\n",
       "    </tr>\n",
       "  </tbody>\n",
       "</table>\n",
       "</div>"
      ],
      "text/plain": [
       "   num_cols_missing  num_rows  pct_cols_missing\n",
       "0                 0     73551          0.000000\n",
       "1                 1        74          0.071429\n",
       "2                 2         4          0.142857"
      ]
     },
     "execution_count": 31,
     "metadata": {},
     "output_type": "execute_result"
    }
   ],
   "source": [
    "w.nulls_by_rows(df)"
   ]
  },
  {
   "cell_type": "code",
   "execution_count": 32,
   "id": "d2ccfeae",
   "metadata": {},
   "outputs": [],
   "source": [
    "# Due to low number of nulls (would result in a .1% drop of data) and the desire to retain the integrity of \n",
    "# the columns where they are missing, am going to just drop all the nulls. \n",
    "df = df.dropna()"
   ]
  },
  {
   "cell_type": "code",
   "execution_count": 33,
   "id": "d972d88a",
   "metadata": {},
   "outputs": [
    {
     "data": {
      "text/plain": [
       "(73551, 14)"
      ]
     },
     "execution_count": 33,
     "metadata": {},
     "output_type": "execute_result"
    }
   ],
   "source": [
    "df.shape"
   ]
  },
  {
   "cell_type": "code",
   "execution_count": 34,
   "id": "70d7b332",
   "metadata": {},
   "outputs": [],
   "source": [
    "# Changing yearbuilt to new feature age and dropping yearbuilt column\n",
    "df.yearbuilt = df.yearbuilt.astype(int)\n",
    "df['age'] = 2017 - df.yearbuilt\n",
    "df = df.drop(columns='yearbuilt')"
   ]
  },
  {
   "cell_type": "code",
   "execution_count": 35,
   "id": "247bf6f7",
   "metadata": {},
   "outputs": [
    {
     "data": {
      "text/html": [
       "<div>\n",
       "<style scoped>\n",
       "    .dataframe tbody tr th:only-of-type {\n",
       "        vertical-align: middle;\n",
       "    }\n",
       "\n",
       "    .dataframe tbody tr th {\n",
       "        vertical-align: top;\n",
       "    }\n",
       "\n",
       "    .dataframe thead th {\n",
       "        text-align: right;\n",
       "    }\n",
       "</style>\n",
       "<table border=\"1\" class=\"dataframe\">\n",
       "  <thead>\n",
       "    <tr style=\"text-align: right;\">\n",
       "      <th></th>\n",
       "      <th>bathroomcnt</th>\n",
       "      <th>bedroomcnt</th>\n",
       "      <th>calculatedfinishedsquarefeet</th>\n",
       "      <th>fips</th>\n",
       "      <th>fireplacecnt</th>\n",
       "      <th>hashottuborspa</th>\n",
       "      <th>latitude</th>\n",
       "      <th>longitude</th>\n",
       "      <th>poolcnt</th>\n",
       "      <th>regionidzip</th>\n",
       "      <th>threequarterbathnbr</th>\n",
       "      <th>taxdelinquencyflag</th>\n",
       "      <th>logerror</th>\n",
       "      <th>age</th>\n",
       "    </tr>\n",
       "  </thead>\n",
       "  <tbody>\n",
       "    <tr>\n",
       "      <th>0</th>\n",
       "      <td>3.5</td>\n",
       "      <td>4.0</td>\n",
       "      <td>3100.0</td>\n",
       "      <td>6059.0</td>\n",
       "      <td>0.0</td>\n",
       "      <td>0.0</td>\n",
       "      <td>33634931.0</td>\n",
       "      <td>-117869207.0</td>\n",
       "      <td>0.0</td>\n",
       "      <td>96978.0</td>\n",
       "      <td>1.0</td>\n",
       "      <td>0</td>\n",
       "      <td>0.025595</td>\n",
       "      <td>19</td>\n",
       "    </tr>\n",
       "    <tr>\n",
       "      <th>1</th>\n",
       "      <td>1.0</td>\n",
       "      <td>2.0</td>\n",
       "      <td>1465.0</td>\n",
       "      <td>6111.0</td>\n",
       "      <td>1.0</td>\n",
       "      <td>0.0</td>\n",
       "      <td>34449266.0</td>\n",
       "      <td>-119281531.0</td>\n",
       "      <td>0.0</td>\n",
       "      <td>97099.0</td>\n",
       "      <td>0.0</td>\n",
       "      <td>0</td>\n",
       "      <td>0.055619</td>\n",
       "      <td>50</td>\n",
       "    </tr>\n",
       "    <tr>\n",
       "      <th>2</th>\n",
       "      <td>2.0</td>\n",
       "      <td>3.0</td>\n",
       "      <td>1243.0</td>\n",
       "      <td>6059.0</td>\n",
       "      <td>0.0</td>\n",
       "      <td>0.0</td>\n",
       "      <td>33886168.0</td>\n",
       "      <td>-117823170.0</td>\n",
       "      <td>1.0</td>\n",
       "      <td>97078.0</td>\n",
       "      <td>0.0</td>\n",
       "      <td>0</td>\n",
       "      <td>0.005383</td>\n",
       "      <td>55</td>\n",
       "    </tr>\n",
       "    <tr>\n",
       "      <th>3</th>\n",
       "      <td>3.0</td>\n",
       "      <td>4.0</td>\n",
       "      <td>2376.0</td>\n",
       "      <td>6037.0</td>\n",
       "      <td>0.0</td>\n",
       "      <td>0.0</td>\n",
       "      <td>34245180.0</td>\n",
       "      <td>-118240722.0</td>\n",
       "      <td>1.0</td>\n",
       "      <td>96330.0</td>\n",
       "      <td>0.0</td>\n",
       "      <td>0</td>\n",
       "      <td>-0.103410</td>\n",
       "      <td>47</td>\n",
       "    </tr>\n",
       "    <tr>\n",
       "      <th>4</th>\n",
       "      <td>3.0</td>\n",
       "      <td>3.0</td>\n",
       "      <td>1312.0</td>\n",
       "      <td>6037.0</td>\n",
       "      <td>0.0</td>\n",
       "      <td>0.0</td>\n",
       "      <td>34185120.0</td>\n",
       "      <td>-118414640.0</td>\n",
       "      <td>1.0</td>\n",
       "      <td>96451.0</td>\n",
       "      <td>0.0</td>\n",
       "      <td>0</td>\n",
       "      <td>0.006940</td>\n",
       "      <td>53</td>\n",
       "    </tr>\n",
       "  </tbody>\n",
       "</table>\n",
       "</div>"
      ],
      "text/plain": [
       "   bathroomcnt  bedroomcnt  calculatedfinishedsquarefeet    fips  \\\n",
       "0          3.5         4.0                        3100.0  6059.0   \n",
       "1          1.0         2.0                        1465.0  6111.0   \n",
       "2          2.0         3.0                        1243.0  6059.0   \n",
       "3          3.0         4.0                        2376.0  6037.0   \n",
       "4          3.0         3.0                        1312.0  6037.0   \n",
       "\n",
       "   fireplacecnt  hashottuborspa    latitude    longitude  poolcnt  \\\n",
       "0           0.0             0.0  33634931.0 -117869207.0      0.0   \n",
       "1           1.0             0.0  34449266.0 -119281531.0      0.0   \n",
       "2           0.0             0.0  33886168.0 -117823170.0      1.0   \n",
       "3           0.0             0.0  34245180.0 -118240722.0      1.0   \n",
       "4           0.0             0.0  34185120.0 -118414640.0      1.0   \n",
       "\n",
       "   regionidzip  threequarterbathnbr taxdelinquencyflag  logerror  age  \n",
       "0      96978.0                  1.0                  0  0.025595   19  \n",
       "1      97099.0                  0.0                  0  0.055619   50  \n",
       "2      97078.0                  0.0                  0  0.005383   55  \n",
       "3      96330.0                  0.0                  0 -0.103410   47  \n",
       "4      96451.0                  0.0                  0  0.006940   53  "
      ]
     },
     "execution_count": 35,
     "metadata": {},
     "output_type": "execute_result"
    }
   ],
   "source": [
    "df.head()"
   ]
  },
  {
   "cell_type": "code",
   "execution_count": 36,
   "id": "b955f8b4",
   "metadata": {},
   "outputs": [
    {
     "data": {
      "text/plain": [
       "97319.0    818\n",
       "96987.0    750\n",
       "97318.0    692\n",
       "97118.0    610\n",
       "96974.0    590\n",
       "          ... \n",
       "96500.0      2\n",
       "96329.0      2\n",
       "97092.0      1\n",
       "96467.0      1\n",
       "97111.0      1\n",
       "Name: regionidzip, Length: 388, dtype: int64"
      ]
     },
     "execution_count": 36,
     "metadata": {},
     "output_type": "execute_result"
    }
   ],
   "source": [
    "df.regionidzip.value_counts(dropna=False)"
   ]
  },
  {
   "cell_type": "code",
   "execution_count": 37,
   "id": "4951a166",
   "metadata": {},
   "outputs": [
    {
     "data": {
      "text/plain": [
       "2.0     30166\n",
       "3.0     16599\n",
       "1.0     12716\n",
       "2.5      6583\n",
       "4.0      2616\n",
       "1.5      1405\n",
       "3.5      1027\n",
       "5.0       902\n",
       "4.5       688\n",
       "6.0       341\n",
       "5.5       224\n",
       "7.0        92\n",
       "8.0        55\n",
       "0.0        50\n",
       "6.5        47\n",
       "7.5        16\n",
       "9.0        13\n",
       "10.0        5\n",
       "11.0        3\n",
       "8.5         2\n",
       "13.0        1\n",
       "Name: bathroomcnt, dtype: int64"
      ]
     },
     "execution_count": 37,
     "metadata": {},
     "output_type": "execute_result"
    }
   ],
   "source": [
    "df.bathroomcnt.value_counts(dropna=False)"
   ]
  },
  {
   "cell_type": "code",
   "execution_count": 38,
   "id": "a46ab7d4",
   "metadata": {},
   "outputs": [
    {
     "name": "stdout",
     "output_type": "stream",
     "text": [
      "<class 'pandas.core.frame.DataFrame'>\n",
      "Int64Index: 73551 entries, 0 to 77379\n",
      "Data columns (total 14 columns):\n",
      " #   Column                        Non-Null Count  Dtype  \n",
      "---  ------                        --------------  -----  \n",
      " 0   bathroomcnt                   73551 non-null  float64\n",
      " 1   bedroomcnt                    73551 non-null  float64\n",
      " 2   calculatedfinishedsquarefeet  73551 non-null  float64\n",
      " 3   fips                          73551 non-null  float64\n",
      " 4   fireplacecnt                  73551 non-null  float64\n",
      " 5   hashottuborspa                73551 non-null  float64\n",
      " 6   latitude                      73551 non-null  float64\n",
      " 7   longitude                     73551 non-null  float64\n",
      " 8   poolcnt                       73551 non-null  float64\n",
      " 9   regionidzip                   73551 non-null  float64\n",
      " 10  threequarterbathnbr           73551 non-null  float64\n",
      " 11  taxdelinquencyflag            73551 non-null  object \n",
      " 12  logerror                      73551 non-null  float64\n",
      " 13  age                           73551 non-null  int64  \n",
      "dtypes: float64(12), int64(1), object(1)\n",
      "memory usage: 8.4+ MB\n"
     ]
    }
   ],
   "source": [
    "df.info()"
   ]
  },
  {
   "cell_type": "code",
   "execution_count": 39,
   "id": "a5e407f0",
   "metadata": {},
   "outputs": [
    {
     "data": {
      "text/plain": [
       "0    70913\n",
       "Y     2638\n",
       "Name: taxdelinquencyflag, dtype: int64"
      ]
     },
     "execution_count": 39,
     "metadata": {},
     "output_type": "execute_result"
    }
   ],
   "source": [
    "df.taxdelinquencyflag.value_counts()"
   ]
  },
  {
   "cell_type": "code",
   "execution_count": 40,
   "id": "9c1bafa0",
   "metadata": {},
   "outputs": [],
   "source": [
    "df.taxdelinquencyflag = np.where(df.taxdelinquencyflag == 'Y', 1, 0)"
   ]
  },
  {
   "cell_type": "code",
   "execution_count": 41,
   "id": "e1aa9d32",
   "metadata": {},
   "outputs": [
    {
     "data": {
      "text/plain": [
       "0    70913\n",
       "1     2638\n",
       "Name: taxdelinquencyflag, dtype: int64"
      ]
     },
     "execution_count": 41,
     "metadata": {},
     "output_type": "execute_result"
    }
   ],
   "source": [
    "df.taxdelinquencyflag.value_counts()"
   ]
  },
  {
   "cell_type": "code",
   "execution_count": 42,
   "id": "c703daaa",
   "metadata": {},
   "outputs": [
    {
     "data": {
      "text/plain": [
       "0.0    72014\n",
       "1.0     1537\n",
       "Name: hashottuborspa, dtype: int64"
      ]
     },
     "execution_count": 42,
     "metadata": {},
     "output_type": "execute_result"
    }
   ],
   "source": [
    "df.hashottuborspa.value_counts()"
   ]
  },
  {
   "cell_type": "code",
   "execution_count": 43,
   "id": "d8f850ec",
   "metadata": {},
   "outputs": [
    {
     "data": {
      "text/plain": [
       "0.0    65316\n",
       "1.0     6980\n",
       "2.0      986\n",
       "3.0      231\n",
       "4.0       35\n",
       "5.0        3\n",
       "Name: fireplacecnt, dtype: int64"
      ]
     },
     "execution_count": 43,
     "metadata": {},
     "output_type": "execute_result"
    }
   ],
   "source": [
    "df.fireplacecnt.value_counts()"
   ]
  },
  {
   "cell_type": "code",
   "execution_count": 44,
   "id": "fed248e6",
   "metadata": {},
   "outputs": [
    {
     "data": {
      "text/plain": [
       "3.0     29817\n",
       "2.0     18757\n",
       "4.0     16528\n",
       "5.0      4116\n",
       "1.0      3264\n",
       "6.0       647\n",
       "0.0       281\n",
       "7.0       107\n",
       "8.0        23\n",
       "9.0         8\n",
       "10.0        2\n",
       "11.0        1\n",
       "Name: bedroomcnt, dtype: int64"
      ]
     },
     "execution_count": 44,
     "metadata": {},
     "output_type": "execute_result"
    }
   ],
   "source": [
    "df.bedroomcnt.value_counts()"
   ]
  },
  {
   "cell_type": "code",
   "execution_count": 45,
   "id": "eafe64b6",
   "metadata": {},
   "outputs": [
    {
     "data": {
      "text/plain": [
       "2.0     30166\n",
       "3.0     16599\n",
       "1.0     12716\n",
       "2.5      6583\n",
       "4.0      2616\n",
       "1.5      1405\n",
       "3.5      1027\n",
       "5.0       902\n",
       "4.5       688\n",
       "6.0       341\n",
       "5.5       224\n",
       "7.0        92\n",
       "8.0        55\n",
       "0.0        50\n",
       "6.5        47\n",
       "7.5        16\n",
       "9.0        13\n",
       "10.0        5\n",
       "11.0        3\n",
       "8.5         2\n",
       "13.0        1\n",
       "Name: bathroomcnt, dtype: int64"
      ]
     },
     "execution_count": 45,
     "metadata": {},
     "output_type": "execute_result"
    }
   ],
   "source": [
    "df.bathroomcnt.value_counts()"
   ]
  },
  {
   "cell_type": "code",
   "execution_count": 46,
   "id": "5dfc0a4a",
   "metadata": {},
   "outputs": [
    {
     "data": {
      "text/plain": [
       "0        3100.0\n",
       "1        1465.0\n",
       "2        1243.0\n",
       "3        2376.0\n",
       "4        1312.0\n",
       "          ...  \n",
       "77375    1741.0\n",
       "77376    1286.0\n",
       "77377    1612.0\n",
       "77378    1032.0\n",
       "77379    1762.0\n",
       "Name: calculatedfinishedsquarefeet, Length: 73551, dtype: float64"
      ]
     },
     "execution_count": 46,
     "metadata": {},
     "output_type": "execute_result"
    }
   ],
   "source": [
    "df.calculatedfinishedsquarefeet"
   ]
  },
  {
   "cell_type": "code",
   "execution_count": 47,
   "id": "33f5cc67",
   "metadata": {},
   "outputs": [],
   "source": [
    "df = df[(df.bathroomcnt > 0) & (df.bedroomcnt > 0) & (df.calculatedfinishedsquarefeet > 400)]"
   ]
  },
  {
   "cell_type": "code",
   "execution_count": 48,
   "id": "68a15954",
   "metadata": {},
   "outputs": [
    {
     "data": {
      "text/plain": [
       "(73236, 14)"
      ]
     },
     "execution_count": 48,
     "metadata": {},
     "output_type": "execute_result"
    }
   ],
   "source": [
    "df.shape"
   ]
  },
  {
   "cell_type": "code",
   "execution_count": 49,
   "id": "f894c1fd",
   "metadata": {},
   "outputs": [
    {
     "name": "stdout",
     "output_type": "stream",
     "text": [
      "<class 'pandas.core.frame.DataFrame'>\n",
      "Int64Index: 73236 entries, 0 to 77379\n",
      "Data columns (total 14 columns):\n",
      " #   Column                        Non-Null Count  Dtype  \n",
      "---  ------                        --------------  -----  \n",
      " 0   bathroomcnt                   73236 non-null  float64\n",
      " 1   bedroomcnt                    73236 non-null  float64\n",
      " 2   calculatedfinishedsquarefeet  73236 non-null  float64\n",
      " 3   fips                          73236 non-null  float64\n",
      " 4   fireplacecnt                  73236 non-null  float64\n",
      " 5   hashottuborspa                73236 non-null  float64\n",
      " 6   latitude                      73236 non-null  float64\n",
      " 7   longitude                     73236 non-null  float64\n",
      " 8   poolcnt                       73236 non-null  float64\n",
      " 9   regionidzip                   73236 non-null  float64\n",
      " 10  threequarterbathnbr           73236 non-null  float64\n",
      " 11  taxdelinquencyflag            73236 non-null  int64  \n",
      " 12  logerror                      73236 non-null  float64\n",
      " 13  age                           73236 non-null  int64  \n",
      "dtypes: float64(12), int64(2)\n",
      "memory usage: 8.4 MB\n"
     ]
    }
   ],
   "source": [
    "df.info()"
   ]
  },
  {
   "cell_type": "code",
   "execution_count": 50,
   "id": "31a30664",
   "metadata": {},
   "outputs": [],
   "source": [
    "# Fips has to be converted to int, str, and concat '0' to properly format number code\n",
    "df.fips = df.fips.astype(int)\n",
    "df.fips = df.fips.astype(str)\n",
    "df.fips = '0' + df.fips"
   ]
  },
  {
   "cell_type": "code",
   "execution_count": 51,
   "id": "81a6055b",
   "metadata": {},
   "outputs": [
    {
     "name": "stdout",
     "output_type": "stream",
     "text": [
      "<class 'pandas.core.frame.DataFrame'>\n",
      "Int64Index: 73236 entries, 0 to 77379\n",
      "Data columns (total 14 columns):\n",
      " #   Column                        Non-Null Count  Dtype  \n",
      "---  ------                        --------------  -----  \n",
      " 0   bathroomcnt                   73236 non-null  float64\n",
      " 1   bedroomcnt                    73236 non-null  float64\n",
      " 2   calculatedfinishedsquarefeet  73236 non-null  float64\n",
      " 3   fips                          73236 non-null  object \n",
      " 4   fireplacecnt                  73236 non-null  float64\n",
      " 5   hashottuborspa                73236 non-null  float64\n",
      " 6   latitude                      73236 non-null  float64\n",
      " 7   longitude                     73236 non-null  float64\n",
      " 8   poolcnt                       73236 non-null  float64\n",
      " 9   regionidzip                   73236 non-null  float64\n",
      " 10  threequarterbathnbr           73236 non-null  float64\n",
      " 11  taxdelinquencyflag            73236 non-null  int64  \n",
      " 12  logerror                      73236 non-null  float64\n",
      " 13  age                           73236 non-null  int64  \n",
      "dtypes: float64(11), int64(2), object(1)\n",
      "memory usage: 8.4+ MB\n"
     ]
    }
   ],
   "source": [
    "df.info()"
   ]
  },
  {
   "cell_type": "code",
   "execution_count": 52,
   "id": "e420654f",
   "metadata": {},
   "outputs": [
    {
     "data": {
      "text/plain": [
       "62     1907\n",
       "28     1761\n",
       "67     1604\n",
       "53     1558\n",
       "63     1530\n",
       "       ... \n",
       "125       1\n",
       "139       1\n",
       "135       1\n",
       "123       1\n",
       "137       1\n",
       "Name: age, Length: 133, dtype: int64"
      ]
     },
     "execution_count": 52,
     "metadata": {},
     "output_type": "execute_result"
    }
   ],
   "source": [
    "df.age.value_counts()"
   ]
  },
  {
   "cell_type": "code",
   "execution_count": 53,
   "id": "856a1ac2",
   "metadata": {},
   "outputs": [],
   "source": [
    "outlier_check = ['bathroomcnt', 'bedroomcnt', 'calculatedfinishedsquarefeet', 'age']"
   ]
  },
  {
   "cell_type": "code",
   "execution_count": 54,
   "id": "e5a7fa0d",
   "metadata": {},
   "outputs": [],
   "source": [
    "df = w.remove_outliers(df, 1.5, outlier_check)"
   ]
  },
  {
   "cell_type": "code",
   "execution_count": 55,
   "id": "4d6e41d7",
   "metadata": {},
   "outputs": [
    {
     "data": {
      "text/plain": [
       "(68020, 14)"
      ]
     },
     "execution_count": 55,
     "metadata": {},
     "output_type": "execute_result"
    }
   ],
   "source": [
    "df.shape"
   ]
  },
  {
   "cell_type": "code",
   "execution_count": 56,
   "id": "181fe660",
   "metadata": {},
   "outputs": [
    {
     "data": {
      "text/plain": [
       "0.0    59521\n",
       "1.0     8479\n",
       "2.0       20\n",
       "Name: threequarterbathnbr, dtype: int64"
      ]
     },
     "execution_count": 56,
     "metadata": {},
     "output_type": "execute_result"
    }
   ],
   "source": [
    "df.threequarterbathnbr.value_counts()"
   ]
  },
  {
   "cell_type": "code",
   "execution_count": 57,
   "id": "8accab4b",
   "metadata": {},
   "outputs": [
    {
     "data": {
      "text/plain": [
       "97319.0    743\n",
       "97318.0    682\n",
       "96987.0    662\n",
       "96993.0    574\n",
       "96974.0    574\n",
       "97328.0    571\n",
       "97118.0    552\n",
       "97329.0    522\n",
       "96962.0    502\n",
       "96996.0    473\n",
       "97116.0    470\n",
       "96193.0    460\n",
       "96368.0    451\n",
       "96995.0    448\n",
       "96964.0    419\n",
       "96186.0    396\n",
       "96505.0    387\n",
       "97078.0    384\n",
       "96389.0    384\n",
       "96364.0    377\n",
       "96378.0    369\n",
       "96373.0    368\n",
       "96998.0    365\n",
       "96370.0    364\n",
       "97317.0    361\n",
       "96351.0    361\n",
       "96385.0    355\n",
       "97083.0    353\n",
       "96236.0    352\n",
       "97091.0    351\n",
       "96954.0    346\n",
       "97330.0    346\n",
       "96377.0    345\n",
       "97089.0    341\n",
       "97041.0    335\n",
       "97068.0    334\n",
       "96401.0    332\n",
       "96383.0    328\n",
       "96963.0    321\n",
       "96242.0    320\n",
       "96190.0    319\n",
       "96124.0    315\n",
       "96122.0    312\n",
       "97026.0    303\n",
       "97008.0    302\n",
       "96990.0    302\n",
       "96966.0    300\n",
       "97023.0    295\n",
       "96369.0    295\n",
       "96989.0    295\n",
       "Name: regionidzip, dtype: int64"
      ]
     },
     "execution_count": 57,
     "metadata": {},
     "output_type": "execute_result"
    }
   ],
   "source": [
    "df.regionidzip.value_counts().head(50)"
   ]
  },
  {
   "cell_type": "code",
   "execution_count": 58,
   "id": "1fbb1332",
   "metadata": {},
   "outputs": [
    {
     "data": {
      "text/plain": [
       "06037    44100\n",
       "06059    18330\n",
       "06111     5590\n",
       "Name: fips, dtype: int64"
      ]
     },
     "execution_count": 58,
     "metadata": {},
     "output_type": "execute_result"
    }
   ],
   "source": [
    "df.fips.value_counts()"
   ]
  },
  {
   "cell_type": "code",
   "execution_count": 59,
   "id": "589cfc05",
   "metadata": {},
   "outputs": [],
   "source": [
    "df.poolcnt = df.poolcnt.astype(int)\n",
    "df.hashottuborspa = df.hashottuborspa.astype(int)\n",
    "df.regionidzip = df.regionidzip.astype(int)\n",
    "cols = ['fips', 'hashottuborspa', 'poolcnt', 'taxdelinquencyflag', 'regionidzip']"
   ]
  },
  {
   "cell_type": "code",
   "execution_count": 60,
   "id": "44aa7641",
   "metadata": {},
   "outputs": [],
   "source": [
    "for col in cols:\n",
    "    df[col] = df[col].astype(object)"
   ]
  },
  {
   "cell_type": "code",
   "execution_count": 61,
   "id": "8d5f919b",
   "metadata": {},
   "outputs": [
    {
     "name": "stdout",
     "output_type": "stream",
     "text": [
      "<class 'pandas.core.frame.DataFrame'>\n",
      "Int64Index: 68020 entries, 0 to 77379\n",
      "Data columns (total 14 columns):\n",
      " #   Column                        Non-Null Count  Dtype  \n",
      "---  ------                        --------------  -----  \n",
      " 0   bathroomcnt                   68020 non-null  float64\n",
      " 1   bedroomcnt                    68020 non-null  float64\n",
      " 2   calculatedfinishedsquarefeet  68020 non-null  float64\n",
      " 3   fips                          68020 non-null  object \n",
      " 4   fireplacecnt                  68020 non-null  float64\n",
      " 5   hashottuborspa                68020 non-null  object \n",
      " 6   latitude                      68020 non-null  float64\n",
      " 7   longitude                     68020 non-null  float64\n",
      " 8   poolcnt                       68020 non-null  object \n",
      " 9   regionidzip                   68020 non-null  object \n",
      " 10  threequarterbathnbr           68020 non-null  float64\n",
      " 11  taxdelinquencyflag            68020 non-null  object \n",
      " 12  logerror                      68020 non-null  float64\n",
      " 13  age                           68020 non-null  int64  \n",
      "dtypes: float64(8), int64(1), object(5)\n",
      "memory usage: 7.8+ MB\n"
     ]
    }
   ],
   "source": [
    "df.info()"
   ]
  },
  {
   "cell_type": "code",
   "execution_count": 62,
   "id": "4478f33c",
   "metadata": {},
   "outputs": [],
   "source": [
    "encode_cols = ['fips', 'hashottuborspa', 'poolcnt', 'taxdelinquencyflag']"
   ]
  },
  {
   "cell_type": "code",
   "execution_count": 63,
   "id": "99129708",
   "metadata": {},
   "outputs": [],
   "source": [
    "for col in encode_cols:\n",
    "    df = pd.get_dummies(df, columns=[col])"
   ]
  },
  {
   "cell_type": "code",
   "execution_count": 64,
   "id": "604f3cbf",
   "metadata": {},
   "outputs": [
    {
     "data": {
      "text/html": [
       "<div>\n",
       "<style scoped>\n",
       "    .dataframe tbody tr th:only-of-type {\n",
       "        vertical-align: middle;\n",
       "    }\n",
       "\n",
       "    .dataframe tbody tr th {\n",
       "        vertical-align: top;\n",
       "    }\n",
       "\n",
       "    .dataframe thead th {\n",
       "        text-align: right;\n",
       "    }\n",
       "</style>\n",
       "<table border=\"1\" class=\"dataframe\">\n",
       "  <thead>\n",
       "    <tr style=\"text-align: right;\">\n",
       "      <th></th>\n",
       "      <th>bathroomcnt</th>\n",
       "      <th>bedroomcnt</th>\n",
       "      <th>calculatedfinishedsquarefeet</th>\n",
       "      <th>fireplacecnt</th>\n",
       "      <th>latitude</th>\n",
       "      <th>longitude</th>\n",
       "      <th>regionidzip</th>\n",
       "      <th>threequarterbathnbr</th>\n",
       "      <th>logerror</th>\n",
       "      <th>age</th>\n",
       "      <th>fips_06037</th>\n",
       "      <th>fips_06059</th>\n",
       "      <th>fips_06111</th>\n",
       "      <th>hashottuborspa_0</th>\n",
       "      <th>hashottuborspa_1</th>\n",
       "      <th>poolcnt_0</th>\n",
       "      <th>poolcnt_1</th>\n",
       "      <th>taxdelinquencyflag_0</th>\n",
       "      <th>taxdelinquencyflag_1</th>\n",
       "    </tr>\n",
       "  </thead>\n",
       "  <tbody>\n",
       "    <tr>\n",
       "      <th>0</th>\n",
       "      <td>3.5</td>\n",
       "      <td>4.0</td>\n",
       "      <td>3100.0</td>\n",
       "      <td>0.0</td>\n",
       "      <td>33634931.0</td>\n",
       "      <td>-117869207.0</td>\n",
       "      <td>96978</td>\n",
       "      <td>1.0</td>\n",
       "      <td>0.025595</td>\n",
       "      <td>19</td>\n",
       "      <td>0</td>\n",
       "      <td>1</td>\n",
       "      <td>0</td>\n",
       "      <td>1</td>\n",
       "      <td>0</td>\n",
       "      <td>1</td>\n",
       "      <td>0</td>\n",
       "      <td>1</td>\n",
       "      <td>0</td>\n",
       "    </tr>\n",
       "    <tr>\n",
       "      <th>1</th>\n",
       "      <td>1.0</td>\n",
       "      <td>2.0</td>\n",
       "      <td>1465.0</td>\n",
       "      <td>1.0</td>\n",
       "      <td>34449266.0</td>\n",
       "      <td>-119281531.0</td>\n",
       "      <td>97099</td>\n",
       "      <td>0.0</td>\n",
       "      <td>0.055619</td>\n",
       "      <td>50</td>\n",
       "      <td>0</td>\n",
       "      <td>0</td>\n",
       "      <td>1</td>\n",
       "      <td>1</td>\n",
       "      <td>0</td>\n",
       "      <td>1</td>\n",
       "      <td>0</td>\n",
       "      <td>1</td>\n",
       "      <td>0</td>\n",
       "    </tr>\n",
       "    <tr>\n",
       "      <th>2</th>\n",
       "      <td>2.0</td>\n",
       "      <td>3.0</td>\n",
       "      <td>1243.0</td>\n",
       "      <td>0.0</td>\n",
       "      <td>33886168.0</td>\n",
       "      <td>-117823170.0</td>\n",
       "      <td>97078</td>\n",
       "      <td>0.0</td>\n",
       "      <td>0.005383</td>\n",
       "      <td>55</td>\n",
       "      <td>0</td>\n",
       "      <td>1</td>\n",
       "      <td>0</td>\n",
       "      <td>1</td>\n",
       "      <td>0</td>\n",
       "      <td>0</td>\n",
       "      <td>1</td>\n",
       "      <td>1</td>\n",
       "      <td>0</td>\n",
       "    </tr>\n",
       "    <tr>\n",
       "      <th>3</th>\n",
       "      <td>3.0</td>\n",
       "      <td>4.0</td>\n",
       "      <td>2376.0</td>\n",
       "      <td>0.0</td>\n",
       "      <td>34245180.0</td>\n",
       "      <td>-118240722.0</td>\n",
       "      <td>96330</td>\n",
       "      <td>0.0</td>\n",
       "      <td>-0.103410</td>\n",
       "      <td>47</td>\n",
       "      <td>1</td>\n",
       "      <td>0</td>\n",
       "      <td>0</td>\n",
       "      <td>1</td>\n",
       "      <td>0</td>\n",
       "      <td>0</td>\n",
       "      <td>1</td>\n",
       "      <td>1</td>\n",
       "      <td>0</td>\n",
       "    </tr>\n",
       "    <tr>\n",
       "      <th>4</th>\n",
       "      <td>3.0</td>\n",
       "      <td>3.0</td>\n",
       "      <td>1312.0</td>\n",
       "      <td>0.0</td>\n",
       "      <td>34185120.0</td>\n",
       "      <td>-118414640.0</td>\n",
       "      <td>96451</td>\n",
       "      <td>0.0</td>\n",
       "      <td>0.006940</td>\n",
       "      <td>53</td>\n",
       "      <td>1</td>\n",
       "      <td>0</td>\n",
       "      <td>0</td>\n",
       "      <td>1</td>\n",
       "      <td>0</td>\n",
       "      <td>0</td>\n",
       "      <td>1</td>\n",
       "      <td>1</td>\n",
       "      <td>0</td>\n",
       "    </tr>\n",
       "  </tbody>\n",
       "</table>\n",
       "</div>"
      ],
      "text/plain": [
       "   bathroomcnt  bedroomcnt  calculatedfinishedsquarefeet  fireplacecnt  \\\n",
       "0          3.5         4.0                        3100.0           0.0   \n",
       "1          1.0         2.0                        1465.0           1.0   \n",
       "2          2.0         3.0                        1243.0           0.0   \n",
       "3          3.0         4.0                        2376.0           0.0   \n",
       "4          3.0         3.0                        1312.0           0.0   \n",
       "\n",
       "     latitude    longitude regionidzip  threequarterbathnbr  logerror  age  \\\n",
       "0  33634931.0 -117869207.0       96978                  1.0  0.025595   19   \n",
       "1  34449266.0 -119281531.0       97099                  0.0  0.055619   50   \n",
       "2  33886168.0 -117823170.0       97078                  0.0  0.005383   55   \n",
       "3  34245180.0 -118240722.0       96330                  0.0 -0.103410   47   \n",
       "4  34185120.0 -118414640.0       96451                  0.0  0.006940   53   \n",
       "\n",
       "   fips_06037  fips_06059  fips_06111  hashottuborspa_0  hashottuborspa_1  \\\n",
       "0           0           1           0                 1                 0   \n",
       "1           0           0           1                 1                 0   \n",
       "2           0           1           0                 1                 0   \n",
       "3           1           0           0                 1                 0   \n",
       "4           1           0           0                 1                 0   \n",
       "\n",
       "   poolcnt_0  poolcnt_1  taxdelinquencyflag_0  taxdelinquencyflag_1  \n",
       "0          1          0                     1                     0  \n",
       "1          1          0                     1                     0  \n",
       "2          0          1                     1                     0  \n",
       "3          0          1                     1                     0  \n",
       "4          0          1                     1                     0  "
      ]
     },
     "execution_count": 64,
     "metadata": {},
     "output_type": "execute_result"
    }
   ],
   "source": [
    "df.head()"
   ]
  },
  {
   "cell_type": "code",
   "execution_count": 65,
   "id": "f086217c",
   "metadata": {},
   "outputs": [],
   "source": [
    "df = df.drop(columns = ['hashottuborspa_0', 'poolcnt_0', 'taxdelinquencyflag_0'])"
   ]
  },
  {
   "cell_type": "code",
   "execution_count": 66,
   "id": "75aa13f1",
   "metadata": {},
   "outputs": [
    {
     "data": {
      "text/html": [
       "<div>\n",
       "<style scoped>\n",
       "    .dataframe tbody tr th:only-of-type {\n",
       "        vertical-align: middle;\n",
       "    }\n",
       "\n",
       "    .dataframe tbody tr th {\n",
       "        vertical-align: top;\n",
       "    }\n",
       "\n",
       "    .dataframe thead th {\n",
       "        text-align: right;\n",
       "    }\n",
       "</style>\n",
       "<table border=\"1\" class=\"dataframe\">\n",
       "  <thead>\n",
       "    <tr style=\"text-align: right;\">\n",
       "      <th></th>\n",
       "      <th>bathroomcnt</th>\n",
       "      <th>bedroomcnt</th>\n",
       "      <th>calculatedfinishedsquarefeet</th>\n",
       "      <th>fireplacecnt</th>\n",
       "      <th>latitude</th>\n",
       "      <th>longitude</th>\n",
       "      <th>regionidzip</th>\n",
       "      <th>threequarterbathnbr</th>\n",
       "      <th>logerror</th>\n",
       "      <th>age</th>\n",
       "      <th>fips_06037</th>\n",
       "      <th>fips_06059</th>\n",
       "      <th>fips_06111</th>\n",
       "      <th>hashottuborspa_1</th>\n",
       "      <th>poolcnt_1</th>\n",
       "      <th>taxdelinquencyflag_1</th>\n",
       "    </tr>\n",
       "  </thead>\n",
       "  <tbody>\n",
       "    <tr>\n",
       "      <th>0</th>\n",
       "      <td>3.5</td>\n",
       "      <td>4.0</td>\n",
       "      <td>3100.0</td>\n",
       "      <td>0.0</td>\n",
       "      <td>33634931.0</td>\n",
       "      <td>-117869207.0</td>\n",
       "      <td>96978</td>\n",
       "      <td>1.0</td>\n",
       "      <td>0.025595</td>\n",
       "      <td>19</td>\n",
       "      <td>0</td>\n",
       "      <td>1</td>\n",
       "      <td>0</td>\n",
       "      <td>0</td>\n",
       "      <td>0</td>\n",
       "      <td>0</td>\n",
       "    </tr>\n",
       "    <tr>\n",
       "      <th>1</th>\n",
       "      <td>1.0</td>\n",
       "      <td>2.0</td>\n",
       "      <td>1465.0</td>\n",
       "      <td>1.0</td>\n",
       "      <td>34449266.0</td>\n",
       "      <td>-119281531.0</td>\n",
       "      <td>97099</td>\n",
       "      <td>0.0</td>\n",
       "      <td>0.055619</td>\n",
       "      <td>50</td>\n",
       "      <td>0</td>\n",
       "      <td>0</td>\n",
       "      <td>1</td>\n",
       "      <td>0</td>\n",
       "      <td>0</td>\n",
       "      <td>0</td>\n",
       "    </tr>\n",
       "    <tr>\n",
       "      <th>2</th>\n",
       "      <td>2.0</td>\n",
       "      <td>3.0</td>\n",
       "      <td>1243.0</td>\n",
       "      <td>0.0</td>\n",
       "      <td>33886168.0</td>\n",
       "      <td>-117823170.0</td>\n",
       "      <td>97078</td>\n",
       "      <td>0.0</td>\n",
       "      <td>0.005383</td>\n",
       "      <td>55</td>\n",
       "      <td>0</td>\n",
       "      <td>1</td>\n",
       "      <td>0</td>\n",
       "      <td>0</td>\n",
       "      <td>1</td>\n",
       "      <td>0</td>\n",
       "    </tr>\n",
       "    <tr>\n",
       "      <th>3</th>\n",
       "      <td>3.0</td>\n",
       "      <td>4.0</td>\n",
       "      <td>2376.0</td>\n",
       "      <td>0.0</td>\n",
       "      <td>34245180.0</td>\n",
       "      <td>-118240722.0</td>\n",
       "      <td>96330</td>\n",
       "      <td>0.0</td>\n",
       "      <td>-0.103410</td>\n",
       "      <td>47</td>\n",
       "      <td>1</td>\n",
       "      <td>0</td>\n",
       "      <td>0</td>\n",
       "      <td>0</td>\n",
       "      <td>1</td>\n",
       "      <td>0</td>\n",
       "    </tr>\n",
       "    <tr>\n",
       "      <th>4</th>\n",
       "      <td>3.0</td>\n",
       "      <td>3.0</td>\n",
       "      <td>1312.0</td>\n",
       "      <td>0.0</td>\n",
       "      <td>34185120.0</td>\n",
       "      <td>-118414640.0</td>\n",
       "      <td>96451</td>\n",
       "      <td>0.0</td>\n",
       "      <td>0.006940</td>\n",
       "      <td>53</td>\n",
       "      <td>1</td>\n",
       "      <td>0</td>\n",
       "      <td>0</td>\n",
       "      <td>0</td>\n",
       "      <td>1</td>\n",
       "      <td>0</td>\n",
       "    </tr>\n",
       "  </tbody>\n",
       "</table>\n",
       "</div>"
      ],
      "text/plain": [
       "   bathroomcnt  bedroomcnt  calculatedfinishedsquarefeet  fireplacecnt  \\\n",
       "0          3.5         4.0                        3100.0           0.0   \n",
       "1          1.0         2.0                        1465.0           1.0   \n",
       "2          2.0         3.0                        1243.0           0.0   \n",
       "3          3.0         4.0                        2376.0           0.0   \n",
       "4          3.0         3.0                        1312.0           0.0   \n",
       "\n",
       "     latitude    longitude regionidzip  threequarterbathnbr  logerror  age  \\\n",
       "0  33634931.0 -117869207.0       96978                  1.0  0.025595   19   \n",
       "1  34449266.0 -119281531.0       97099                  0.0  0.055619   50   \n",
       "2  33886168.0 -117823170.0       97078                  0.0  0.005383   55   \n",
       "3  34245180.0 -118240722.0       96330                  0.0 -0.103410   47   \n",
       "4  34185120.0 -118414640.0       96451                  0.0  0.006940   53   \n",
       "\n",
       "   fips_06037  fips_06059  fips_06111  hashottuborspa_1  poolcnt_1  \\\n",
       "0           0           1           0                 0          0   \n",
       "1           0           0           1                 0          0   \n",
       "2           0           1           0                 0          1   \n",
       "3           1           0           0                 0          1   \n",
       "4           1           0           0                 0          1   \n",
       "\n",
       "   taxdelinquencyflag_1  \n",
       "0                     0  \n",
       "1                     0  \n",
       "2                     0  \n",
       "3                     0  \n",
       "4                     0  "
      ]
     },
     "execution_count": 66,
     "metadata": {},
     "output_type": "execute_result"
    }
   ],
   "source": [
    "df.head()"
   ]
  },
  {
   "cell_type": "code",
   "execution_count": 67,
   "id": "81ea3460",
   "metadata": {},
   "outputs": [],
   "source": [
    "df = df.rename(columns={'bathroomcnt': 'bathrooms',\n",
    "                       'bedroomcnt': 'bedrooms', 'calculatedfinishedsquarefeet': 'squarefeet', 'fireplacecnt': 'num_fireplace',\n",
    "                       'threequarterbathnbr': 'threequarter_baths', 'hashottuborspa_1': 'hottub_or_spa', 'poolcnt_1': 'has_pool',\n",
    "                       'taxdelinquencyflag_1': 'tax_delinquency'})"
   ]
  },
  {
   "cell_type": "code",
   "execution_count": 68,
   "id": "c4066a03",
   "metadata": {},
   "outputs": [
    {
     "data": {
      "text/html": [
       "<div>\n",
       "<style scoped>\n",
       "    .dataframe tbody tr th:only-of-type {\n",
       "        vertical-align: middle;\n",
       "    }\n",
       "\n",
       "    .dataframe tbody tr th {\n",
       "        vertical-align: top;\n",
       "    }\n",
       "\n",
       "    .dataframe thead th {\n",
       "        text-align: right;\n",
       "    }\n",
       "</style>\n",
       "<table border=\"1\" class=\"dataframe\">\n",
       "  <thead>\n",
       "    <tr style=\"text-align: right;\">\n",
       "      <th></th>\n",
       "      <th>bathrooms</th>\n",
       "      <th>bedrooms</th>\n",
       "      <th>squarefeet</th>\n",
       "      <th>num_fireplace</th>\n",
       "      <th>latitude</th>\n",
       "      <th>longitude</th>\n",
       "      <th>regionidzip</th>\n",
       "      <th>threequarter_baths</th>\n",
       "      <th>logerror</th>\n",
       "      <th>age</th>\n",
       "      <th>fips_06037</th>\n",
       "      <th>fips_06059</th>\n",
       "      <th>fips_06111</th>\n",
       "      <th>hottub_or_spa</th>\n",
       "      <th>has_pool</th>\n",
       "      <th>tax_delinquency</th>\n",
       "    </tr>\n",
       "  </thead>\n",
       "  <tbody>\n",
       "    <tr>\n",
       "      <th>0</th>\n",
       "      <td>3.5</td>\n",
       "      <td>4.0</td>\n",
       "      <td>3100.0</td>\n",
       "      <td>0.0</td>\n",
       "      <td>33634931.0</td>\n",
       "      <td>-117869207.0</td>\n",
       "      <td>96978</td>\n",
       "      <td>1.0</td>\n",
       "      <td>0.025595</td>\n",
       "      <td>19</td>\n",
       "      <td>0</td>\n",
       "      <td>1</td>\n",
       "      <td>0</td>\n",
       "      <td>0</td>\n",
       "      <td>0</td>\n",
       "      <td>0</td>\n",
       "    </tr>\n",
       "    <tr>\n",
       "      <th>1</th>\n",
       "      <td>1.0</td>\n",
       "      <td>2.0</td>\n",
       "      <td>1465.0</td>\n",
       "      <td>1.0</td>\n",
       "      <td>34449266.0</td>\n",
       "      <td>-119281531.0</td>\n",
       "      <td>97099</td>\n",
       "      <td>0.0</td>\n",
       "      <td>0.055619</td>\n",
       "      <td>50</td>\n",
       "      <td>0</td>\n",
       "      <td>0</td>\n",
       "      <td>1</td>\n",
       "      <td>0</td>\n",
       "      <td>0</td>\n",
       "      <td>0</td>\n",
       "    </tr>\n",
       "    <tr>\n",
       "      <th>2</th>\n",
       "      <td>2.0</td>\n",
       "      <td>3.0</td>\n",
       "      <td>1243.0</td>\n",
       "      <td>0.0</td>\n",
       "      <td>33886168.0</td>\n",
       "      <td>-117823170.0</td>\n",
       "      <td>97078</td>\n",
       "      <td>0.0</td>\n",
       "      <td>0.005383</td>\n",
       "      <td>55</td>\n",
       "      <td>0</td>\n",
       "      <td>1</td>\n",
       "      <td>0</td>\n",
       "      <td>0</td>\n",
       "      <td>1</td>\n",
       "      <td>0</td>\n",
       "    </tr>\n",
       "    <tr>\n",
       "      <th>3</th>\n",
       "      <td>3.0</td>\n",
       "      <td>4.0</td>\n",
       "      <td>2376.0</td>\n",
       "      <td>0.0</td>\n",
       "      <td>34245180.0</td>\n",
       "      <td>-118240722.0</td>\n",
       "      <td>96330</td>\n",
       "      <td>0.0</td>\n",
       "      <td>-0.103410</td>\n",
       "      <td>47</td>\n",
       "      <td>1</td>\n",
       "      <td>0</td>\n",
       "      <td>0</td>\n",
       "      <td>0</td>\n",
       "      <td>1</td>\n",
       "      <td>0</td>\n",
       "    </tr>\n",
       "    <tr>\n",
       "      <th>4</th>\n",
       "      <td>3.0</td>\n",
       "      <td>3.0</td>\n",
       "      <td>1312.0</td>\n",
       "      <td>0.0</td>\n",
       "      <td>34185120.0</td>\n",
       "      <td>-118414640.0</td>\n",
       "      <td>96451</td>\n",
       "      <td>0.0</td>\n",
       "      <td>0.006940</td>\n",
       "      <td>53</td>\n",
       "      <td>1</td>\n",
       "      <td>0</td>\n",
       "      <td>0</td>\n",
       "      <td>0</td>\n",
       "      <td>1</td>\n",
       "      <td>0</td>\n",
       "    </tr>\n",
       "  </tbody>\n",
       "</table>\n",
       "</div>"
      ],
      "text/plain": [
       "   bathrooms  bedrooms  squarefeet  num_fireplace    latitude    longitude  \\\n",
       "0        3.5       4.0      3100.0            0.0  33634931.0 -117869207.0   \n",
       "1        1.0       2.0      1465.0            1.0  34449266.0 -119281531.0   \n",
       "2        2.0       3.0      1243.0            0.0  33886168.0 -117823170.0   \n",
       "3        3.0       4.0      2376.0            0.0  34245180.0 -118240722.0   \n",
       "4        3.0       3.0      1312.0            0.0  34185120.0 -118414640.0   \n",
       "\n",
       "  regionidzip  threequarter_baths  logerror  age  fips_06037  fips_06059  \\\n",
       "0       96978                 1.0  0.025595   19           0           1   \n",
       "1       97099                 0.0  0.055619   50           0           0   \n",
       "2       97078                 0.0  0.005383   55           0           1   \n",
       "3       96330                 0.0 -0.103410   47           1           0   \n",
       "4       96451                 0.0  0.006940   53           1           0   \n",
       "\n",
       "   fips_06111  hottub_or_spa  has_pool  tax_delinquency  \n",
       "0           0              0         0                0  \n",
       "1           1              0         0                0  \n",
       "2           0              0         1                0  \n",
       "3           0              0         1                0  \n",
       "4           0              0         1                0  "
      ]
     },
     "execution_count": 68,
     "metadata": {},
     "output_type": "execute_result"
    }
   ],
   "source": [
    "df.head()"
   ]
  },
  {
   "cell_type": "code",
   "execution_count": 69,
   "id": "c0baa3b1",
   "metadata": {},
   "outputs": [
    {
     "data": {
      "text/plain": [
       "(68020, 16)"
      ]
     },
     "execution_count": 69,
     "metadata": {},
     "output_type": "execute_result"
    }
   ],
   "source": [
    "df.shape"
   ]
  },
  {
   "cell_type": "code",
   "execution_count": null,
   "id": "6bcce636",
   "metadata": {},
   "outputs": [],
   "source": []
  }
 ],
 "metadata": {
  "kernelspec": {
   "display_name": "Python 3.9.7 64-bit ('base': conda)",
   "language": "python",
   "name": "python397jvsc74a57bd038cca0c38332a56087b24af0bc80247f4fced29cb4f7f437d91dc159adec9c4e"
  },
  "language_info": {
   "codemirror_mode": {
    "name": "ipython",
    "version": 3
   },
   "file_extension": ".py",
   "mimetype": "text/x-python",
   "name": "python",
   "nbconvert_exporter": "python",
   "pygments_lexer": "ipython3",
   "version": "3.9.7"
  }
 },
 "nbformat": 4,
 "nbformat_minor": 5
}
