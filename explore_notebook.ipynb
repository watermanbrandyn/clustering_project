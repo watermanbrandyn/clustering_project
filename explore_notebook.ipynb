{
 "cells": [
  {
   "cell_type": "code",
   "execution_count": 1,
   "id": "5ab1ccec",
   "metadata": {},
   "outputs": [],
   "source": [
    "import pandas as pd\n",
    "import numpy as np\n",
    "import matplotlib.pyplot as plt\n",
    "import seaborn as sns\n",
    "\n",
    "import warnings\n",
    "warnings.filterwarnings('ignore')\n",
    "\n",
    "from sklearn.model_selection import train_test_split\n",
    "from sklearn.preprocessing import MinMaxScaler\n",
    "\n",
    "pd.options.display.max_rows = 100"
   ]
  },
  {
   "cell_type": "code",
   "execution_count": 2,
   "id": "c5850077",
   "metadata": {},
   "outputs": [],
   "source": [
    "import wrangle_zillow as w"
   ]
  },
  {
   "cell_type": "code",
   "execution_count": 3,
   "id": "0fb591a2",
   "metadata": {},
   "outputs": [
    {
     "name": "stdout",
     "output_type": "stream",
     "text": [
      "Using cached csv\n"
     ]
    }
   ],
   "source": [
    "df = w.acquire_zillow()"
   ]
  },
  {
   "cell_type": "code",
   "execution_count": 4,
   "id": "9305fb6c",
   "metadata": {},
   "outputs": [
    {
     "data": {
      "text/plain": [
       "(77380, 68)"
      ]
     },
     "execution_count": 4,
     "metadata": {},
     "output_type": "execute_result"
    }
   ],
   "source": [
    "df.shape"
   ]
  },
  {
   "cell_type": "code",
   "execution_count": 5,
   "id": "c79f3689",
   "metadata": {},
   "outputs": [],
   "source": [
    "train, validate, test = w.prepare_zillow(df)"
   ]
  },
  {
   "cell_type": "code",
   "execution_count": 6,
   "id": "4c8cef04",
   "metadata": {},
   "outputs": [
    {
     "data": {
      "text/plain": [
       "((38192, 16), (16368, 16), (13640, 16))"
      ]
     },
     "execution_count": 6,
     "metadata": {},
     "output_type": "execute_result"
    }
   ],
   "source": [
    "train.shape, validate.shape, test.shape"
   ]
  },
  {
   "cell_type": "code",
   "execution_count": 7,
   "id": "6e50d258",
   "metadata": {},
   "outputs": [
    {
     "data": {
      "text/plain": [
       "68200"
      ]
     },
     "execution_count": 7,
     "metadata": {},
     "output_type": "execute_result"
    }
   ],
   "source": [
    "38192 + 16368 + 13640"
   ]
  },
  {
   "cell_type": "code",
   "execution_count": 8,
   "id": "a8b61de0",
   "metadata": {},
   "outputs": [
    {
     "data": {
      "text/html": [
       "<div>\n",
       "<style scoped>\n",
       "    .dataframe tbody tr th:only-of-type {\n",
       "        vertical-align: middle;\n",
       "    }\n",
       "\n",
       "    .dataframe tbody tr th {\n",
       "        vertical-align: top;\n",
       "    }\n",
       "\n",
       "    .dataframe thead th {\n",
       "        text-align: right;\n",
       "    }\n",
       "</style>\n",
       "<table border=\"1\" class=\"dataframe\">\n",
       "  <thead>\n",
       "    <tr style=\"text-align: right;\">\n",
       "      <th></th>\n",
       "      <th>bathrooms</th>\n",
       "      <th>bedrooms</th>\n",
       "      <th>squarefeet</th>\n",
       "      <th>num_fireplace</th>\n",
       "      <th>latitude</th>\n",
       "      <th>longitude</th>\n",
       "      <th>regionidzip</th>\n",
       "      <th>threequarter_baths</th>\n",
       "      <th>logerror</th>\n",
       "      <th>age</th>\n",
       "      <th>fips_06037</th>\n",
       "      <th>fips_06059</th>\n",
       "      <th>fips_06111</th>\n",
       "      <th>hottub_or_spa</th>\n",
       "      <th>has_pool</th>\n",
       "      <th>tax_delinquency</th>\n",
       "    </tr>\n",
       "  </thead>\n",
       "  <tbody>\n",
       "    <tr>\n",
       "      <th>44785</th>\n",
       "      <td>2.0</td>\n",
       "      <td>4.0</td>\n",
       "      <td>1430.0</td>\n",
       "      <td>0.0</td>\n",
       "      <td>33656927.0</td>\n",
       "      <td>-117951898.0</td>\n",
       "      <td>96964</td>\n",
       "      <td>0.0</td>\n",
       "      <td>0.262900</td>\n",
       "      <td>49</td>\n",
       "      <td>0</td>\n",
       "      <td>1</td>\n",
       "      <td>0</td>\n",
       "      <td>0</td>\n",
       "      <td>0</td>\n",
       "      <td>0</td>\n",
       "    </tr>\n",
       "    <tr>\n",
       "      <th>16267</th>\n",
       "      <td>3.0</td>\n",
       "      <td>5.0</td>\n",
       "      <td>2625.0</td>\n",
       "      <td>0.0</td>\n",
       "      <td>34302964.0</td>\n",
       "      <td>-118506606.0</td>\n",
       "      <td>96370</td>\n",
       "      <td>0.0</td>\n",
       "      <td>-0.045759</td>\n",
       "      <td>52</td>\n",
       "      <td>1</td>\n",
       "      <td>0</td>\n",
       "      <td>0</td>\n",
       "      <td>0</td>\n",
       "      <td>1</td>\n",
       "      <td>0</td>\n",
       "    </tr>\n",
       "    <tr>\n",
       "      <th>24208</th>\n",
       "      <td>2.5</td>\n",
       "      <td>3.0</td>\n",
       "      <td>1109.0</td>\n",
       "      <td>0.0</td>\n",
       "      <td>33655478.0</td>\n",
       "      <td>-117684439.0</td>\n",
       "      <td>96962</td>\n",
       "      <td>1.0</td>\n",
       "      <td>-0.011548</td>\n",
       "      <td>28</td>\n",
       "      <td>0</td>\n",
       "      <td>1</td>\n",
       "      <td>0</td>\n",
       "      <td>0</td>\n",
       "      <td>0</td>\n",
       "      <td>0</td>\n",
       "    </tr>\n",
       "    <tr>\n",
       "      <th>40323</th>\n",
       "      <td>3.0</td>\n",
       "      <td>3.0</td>\n",
       "      <td>1732.0</td>\n",
       "      <td>0.0</td>\n",
       "      <td>34569171.0</td>\n",
       "      <td>-118065585.0</td>\n",
       "      <td>97328</td>\n",
       "      <td>0.0</td>\n",
       "      <td>-0.041808</td>\n",
       "      <td>33</td>\n",
       "      <td>1</td>\n",
       "      <td>0</td>\n",
       "      <td>0</td>\n",
       "      <td>0</td>\n",
       "      <td>0</td>\n",
       "      <td>0</td>\n",
       "    </tr>\n",
       "    <tr>\n",
       "      <th>71569</th>\n",
       "      <td>1.0</td>\n",
       "      <td>2.0</td>\n",
       "      <td>808.0</td>\n",
       "      <td>0.0</td>\n",
       "      <td>33896400.0</td>\n",
       "      <td>-118253813.0</td>\n",
       "      <td>96090</td>\n",
       "      <td>0.0</td>\n",
       "      <td>-0.090481</td>\n",
       "      <td>66</td>\n",
       "      <td>1</td>\n",
       "      <td>0</td>\n",
       "      <td>0</td>\n",
       "      <td>0</td>\n",
       "      <td>0</td>\n",
       "      <td>0</td>\n",
       "    </tr>\n",
       "  </tbody>\n",
       "</table>\n",
       "</div>"
      ],
      "text/plain": [
       "       bathrooms  bedrooms  squarefeet  num_fireplace    latitude  \\\n",
       "44785        2.0       4.0      1430.0            0.0  33656927.0   \n",
       "16267        3.0       5.0      2625.0            0.0  34302964.0   \n",
       "24208        2.5       3.0      1109.0            0.0  33655478.0   \n",
       "40323        3.0       3.0      1732.0            0.0  34569171.0   \n",
       "71569        1.0       2.0       808.0            0.0  33896400.0   \n",
       "\n",
       "         longitude regionidzip  threequarter_baths  logerror  age  fips_06037  \\\n",
       "44785 -117951898.0       96964                 0.0  0.262900   49           0   \n",
       "16267 -118506606.0       96370                 0.0 -0.045759   52           1   \n",
       "24208 -117684439.0       96962                 1.0 -0.011548   28           0   \n",
       "40323 -118065585.0       97328                 0.0 -0.041808   33           1   \n",
       "71569 -118253813.0       96090                 0.0 -0.090481   66           1   \n",
       "\n",
       "       fips_06059  fips_06111  hottub_or_spa  has_pool  tax_delinquency  \n",
       "44785           1           0              0         0                0  \n",
       "16267           0           0              0         1                0  \n",
       "24208           1           0              0         0                0  \n",
       "40323           0           0              0         0                0  \n",
       "71569           0           0              0         0                0  "
      ]
     },
     "execution_count": 8,
     "metadata": {},
     "output_type": "execute_result"
    }
   ],
   "source": [
    "train.head()"
   ]
  },
  {
   "cell_type": "code",
   "execution_count": null,
   "id": "d5334fe1",
   "metadata": {},
   "outputs": [],
   "source": []
  }
 ],
 "metadata": {
  "kernelspec": {
   "display_name": "Python 3.9.7 64-bit ('base': conda)",
   "language": "python",
   "name": "python397jvsc74a57bd038cca0c38332a56087b24af0bc80247f4fced29cb4f7f437d91dc159adec9c4e"
  },
  "language_info": {
   "codemirror_mode": {
    "name": "ipython",
    "version": 3
   },
   "file_extension": ".py",
   "mimetype": "text/x-python",
   "name": "python",
   "nbconvert_exporter": "python",
   "pygments_lexer": "ipython3",
   "version": "3.9.7"
  }
 },
 "nbformat": 4,
 "nbformat_minor": 5
}
