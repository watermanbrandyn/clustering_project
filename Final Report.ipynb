{
 "cells": [
  {
   "cell_type": "markdown",
   "id": "b35337a5",
   "metadata": {},
   "source": [
    "# Final Report\n",
    "## Clustering Analysis (with Regression modeling)\n",
    "### Brandyn Waterman, 4/8/2022, Innis Cohort\n",
    "Hello and welcome! Let's begin with the needed imports:"
   ]
  },
  {
   "cell_type": "code",
   "execution_count": 6,
   "id": "d19a58d2",
   "metadata": {},
   "outputs": [],
   "source": [
    "# Dataframe manipulations\n",
    "import pandas as pd\n",
    "import numpy as np\n",
    "\n",
    "# Modules needed to perform necessary functions\n",
    "import wrangle_zillow as w\n",
    "import explore as e\n",
    "\n",
    "# Turning off warnings\n",
    "import warnings\n",
    "warnings.filterwarnings('ignore')"
   ]
  },
  {
   "cell_type": "markdown",
   "id": "6ba66dc2",
   "metadata": {},
   "source": [
    "## Overview:\n",
    "The purpose of this project is to assist in the prediction of log error for Zillow's Zestimate house value predictions. This will be done by:\n",
    "- Identifying some of the key drivers behind the log error\n",
    "- Applying these insights to regression models that can help predict the log error\n",
    "- Sharing learned insights to provide recommendations and solutions moving forward "
   ]
  },
  {
   "cell_type": "markdown",
   "id": "f5d4ca3a",
   "metadata": {},
   "source": [
    "### Planning:\n",
    "Prior to interacting with the data we want to lay out some of our intentions/initial questions:"
   ]
  },
  {
   "cell_type": "markdown",
   "id": "fca3485f",
   "metadata": {},
   "source": [
    "Some of the initial questions for the data: \n",
    "1. \n",
    "2. \n",
    "3. \n",
    "4. \n",
    "5. "
   ]
  },
  {
   "cell_type": "markdown",
   "id": "4ea586f8",
   "metadata": {},
   "source": [
    "### Acquire:\n",
    "..."
   ]
  },
  {
   "cell_type": "code",
   "execution_count": 2,
   "id": "e106f8a4",
   "metadata": {},
   "outputs": [
    {
     "name": "stdout",
     "output_type": "stream",
     "text": [
      "Using cached csv\n"
     ]
    }
   ],
   "source": [
    "# In our wrangle_zillow() module we use our acquire_zillow() function to gather the Zillow data from the SQL server\n",
    "zillow = w.acquire_zillow()"
   ]
  },
  {
   "cell_type": "markdown",
   "id": "9b79f489",
   "metadata": {},
   "source": [
    "### Prepare:\n",
    "..."
   ]
  },
  {
   "cell_type": "code",
   "execution_count": 3,
   "id": "3fd646c0",
   "metadata": {},
   "outputs": [],
   "source": [
    "# In our wrangle_zillow() module we use our prepare_zillow() function, with our acquired dataframe\n",
    "# We clean, prepare, and split the dataframe to produce train, validate, and test dataframes\n",
    "train, validate, test = w.prepare_zillow(zillow)"
   ]
  },
  {
   "cell_type": "markdown",
   "id": "d4b8bd07",
   "metadata": {},
   "source": [
    "### Explore:\n",
    "..."
   ]
  },
  {
   "cell_type": "code",
   "execution_count": 5,
   "id": "dcb74b2e",
   "metadata": {},
   "outputs": [],
   "source": [
    "# We will set our alpha for all of our statistical testing\n",
    "alpha = .05"
   ]
  },
  {
   "cell_type": "markdown",
   "id": "6cba554a",
   "metadata": {},
   "source": [
    "#### Question 1: ..."
   ]
  },
  {
   "cell_type": "markdown",
   "id": "165627c1",
   "metadata": {},
   "source": [
    "#### Question 2: ..."
   ]
  },
  {
   "cell_type": "markdown",
   "id": "d9c08265",
   "metadata": {},
   "source": [
    "#### Question 3: ..."
   ]
  },
  {
   "cell_type": "markdown",
   "id": "30895d45",
   "metadata": {},
   "source": [
    "#### Question 4: ..."
   ]
  },
  {
   "cell_type": "markdown",
   "id": "7e1cb477",
   "metadata": {},
   "source": [
    "#### Question 5: ..."
   ]
  },
  {
   "cell_type": "markdown",
   "id": "bb36c97a",
   "metadata": {},
   "source": [
    "### Scaling:\n",
    "..."
   ]
  },
  {
   "cell_type": "markdown",
   "id": "e2686bcc",
   "metadata": {},
   "source": [
    "### Clustering:\n",
    "..."
   ]
  },
  {
   "cell_type": "markdown",
   "id": "9748007e",
   "metadata": {},
   "source": [
    "### Exploration Summary:\n",
    "..."
   ]
  },
  {
   "cell_type": "code",
   "execution_count": null,
   "id": "95f18749",
   "metadata": {},
   "outputs": [],
   "source": []
  }
 ],
 "metadata": {
  "kernelspec": {
   "display_name": "Python 3.9.7 64-bit ('base': conda)",
   "language": "python",
   "name": "python397jvsc74a57bd038cca0c38332a56087b24af0bc80247f4fced29cb4f7f437d91dc159adec9c4e"
  },
  "language_info": {
   "codemirror_mode": {
    "name": "ipython",
    "version": 3
   },
   "file_extension": ".py",
   "mimetype": "text/x-python",
   "name": "python",
   "nbconvert_exporter": "python",
   "pygments_lexer": "ipython3",
   "version": "3.9.7"
  }
 },
 "nbformat": 4,
 "nbformat_minor": 5
}
